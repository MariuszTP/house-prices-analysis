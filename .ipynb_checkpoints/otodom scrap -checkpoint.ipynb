{
 "cells": [
  {
   "cell_type": "code",
   "execution_count": 1,
   "id": "8012681a",
   "metadata": {},
   "outputs": [],
   "source": [
    "import pandas as pd\n",
    "import numpy as np\n",
    "import matplotlib.pyplot as plt\n",
    "import re\n",
    "import seaborn as sns\n",
    "from scipy import stats\n",
    "\n",
    " \n",
    "from sklearn import datasets, linear_model\n",
    "from sklearn.metrics import mean_squared_error, r2_score"
   ]
  },
  {
   "cell_type": "code",
   "execution_count": null,
   "id": "87fea798",
   "metadata": {},
   "outputs": [],
   "source": [
    "from bs4 import BeautifulSoup\n",
    "import requests\n",
    "import csv\n",
    "\n",
    "\n",
    "\n",
    "import os\n",
    "import matplotlib\n",
    "import matplotlib.pyplot as plt\n",
    "\n",
    "\n",
    "page = 1\n",
    "while page != 35:\n",
    "    url = f\"https://www.otodom.pl/pl/oferty/sprzedaz/dom/wiele-lokalizacji?distanceRadius=10&page={page}&limit=72&market=ALL&locations=%5Bcities_6-77%2Ccities_6-1%5D&viewType=listing \"\n",
    "    html_text = requests.get( url ).text\n",
    "    soup = BeautifulSoup(html_text, 'lxml') \n",
    "    houses = soup.find_all('article', class_ = 'css-1th7s4x es62z2j16')\n",
    "\n",
    "#new css-1th7s4x es62z2j16\n",
    "\n",
    "    for house in houses:\n",
    "        prices = house.find_all('span', class_ = 'css-rmqm02 eclomwz0')[0]\n",
    "     \n",
    "        prices_meter = house.find_all('span', class_ = 'css-rmqm02 eclomwz0')[1]\n",
    "        areas = house.find_all('span', class_ = 'css-rmqm02 eclomwz0')[-1]\n",
    "        location = house.find_all('p', class_ = 'css-80g06k es62z2j10')\n",
    "        #print(location)\n",
    "\n",
    "        for price in prices:\n",
    "            p = price.text\n",
    "            p = re.findall(\"([\\d,.]+)\", p)\n",
    "            p = \",\".join(p)\n",
    "            #print(p)\n",
    "\n",
    "        for price_meter in prices_meter:\n",
    "            m = price_meter.text\n",
    "            m = re.findall(\"([\\d,.]+)\", m)\n",
    "            m = \",\".join(m)\n",
    "\n",
    "\n",
    "        for area in areas:\n",
    "            a = area.text \n",
    "            a = re.findall(\"([\\d,.]+)\", a)\n",
    "            a = \",\".join(a)\n",
    "            \n",
    "\n",
    "        for l in location:\n",
    "            \n",
    "            house_loc = l.find_all('span', class_='css-17o293g es62z2j9')\n",
    "            for loc in house_loc:\n",
    "                lo = loc.text\n",
    "           \n",
    "                #print(lo)\n",
    "\n",
    "            df = pd.DataFrame({ 'price':[p], 'price_meter': [m], 'area': [a], 'house_loc':[lo ]} )\n",
    "            df = df.replace(',','', regex=True)\n",
    "            df.to_csv(\"otodom advertisments all from poznan as.csv\", mode='a', index=False, header=False, sep = '\\t')\n",
    "\n",
    "      \n",
    "       "
   ]
  },
  {
   "cell_type": "code",
   "execution_count": null,
   "id": "75e53a5d",
   "metadata": {},
   "outputs": [],
   "source": [
    "df = pd.read_csv(\"otodom advertisments all from poznan as.csv\")\n",
    "df"
   ]
  },
  {
   "cell_type": "code",
   "execution_count": null,
   "id": "60127c8a",
   "metadata": {},
   "outputs": [],
   "source": [
    "x = pd.read_csv('c4.csv', usecols=['price']).values\n",
    "y = pd.read_csv('c4.csv', usecols=['area']).values"
   ]
  },
  {
   "cell_type": "code",
   "execution_count": null,
   "id": "2182d0f2",
   "metadata": {},
   "outputs": [],
   "source": [
    "#c = pd.DataFrame(df['location'])\n",
    "#print(c)\n",
    "\n",
    "#c = pd.DataFrame(df['location'].head())\n",
    "\n",
    "#c = pd.read_csv('c4.csv', usecols=['price'])\n",
    "c = df['price']\n",
    "\n",
    "b = df['area']\n",
    "b.head(3)\n",
    "\n",
    "#c.astype(\"string\")\n",
    "#print(c.head(3))"
   ]
  },
  {
   "cell_type": "code",
   "execution_count": null,
   "id": "1a744a1b",
   "metadata": {},
   "outputs": [],
   "source": [
    "#sns.distplot(['c'])\n",
    "\n",
    "sns.set_style('whitegrid')\n",
    "sns.distplot(df['price'], kde = False, color ='red', bins = 30)"
   ]
  },
  {
   "cell_type": "code",
   "execution_count": null,
   "id": "48115850",
   "metadata": {},
   "outputs": [],
   "source": [
    "#sns.distplot('price')\n",
    "#sns.distplot(df['price'], kde = False, color ='red', bins = 30)\n",
    "#plt.show()\n",
    "ax = sns.histplot(x, bins=20, stat='density')\n",
    "\n",
    "#mu, std = stats.norm.fit(x)\n",
    "#xx = np.linspace(*ax.get_xlim(),100)\n",
    "ax.plot(xx, stats.norm.pdf(xx, mu, std));\n",
    "\n"
   ]
  },
  {
   "cell_type": "code",
   "execution_count": null,
   "id": "93377830",
   "metadata": {},
   "outputs": [],
   "source": [
    "%matplotlib inline\n",
    "plt.figure(figsize=(6, 5))\n",
    "plt.xlabel('area(sqr m)')\n",
    "plt.ylabel('price(PLN)')\n",
    "\n",
    "plt.scatter(df.price,df.area, color='red', marker=\"+\")\n"
   ]
  },
  {
   "cell_type": "code",
   "execution_count": null,
   "id": "a384f385",
   "metadata": {},
   "outputs": [],
   "source": [
    "axs = c.plot.kde()\n"
   ]
  },
  {
   "cell_type": "code",
   "execution_count": null,
   "id": "902dcf6a",
   "metadata": {},
   "outputs": [],
   "source": [
    "price_mean = np.mean(x)\n",
    "print(f'price mean is: {\"%.0f\" % price_mean}')\n",
    "\n",
    "price_std = np.std(x)\n",
    "print(f'standard devietion is: {\"%.0f\" %  price_std}')\n",
    "\n",
    "price_median = np.median(x)\n",
    "print(f'price median is: {\"%.0f\"% price_median}')\n",
    "\n",
    "price_mode = stats.mode(x)\n",
    "print(f'mode is: { price_mode}')"
   ]
  },
  {
   "cell_type": "code",
   "execution_count": null,
   "id": "b04e30ab",
   "metadata": {},
   "outputs": [],
   "source": [
    "sns.displot(df, x='area', kind='hist', kde=True, aspect=2)\n",
    "plt.ticklabel_format(style='plain', useOffset=False, axis='x')"
   ]
  },
  {
   "cell_type": "code",
   "execution_count": null,
   "id": "d3fa05a6",
   "metadata": {},
   "outputs": [],
   "source": [
    "axs = b.plot.kde()"
   ]
  },
  {
   "cell_type": "code",
   "execution_count": null,
   "id": "d9a67957",
   "metadata": {},
   "outputs": [],
   "source": [
    "area_mean = np.mean(y)\n",
    "print(f'area mean is: {\"%.0f\" % area_mean}')\n",
    "\n",
    "area_std = np.std(y)\n",
    "print(f'standard devietion is: {\"%.0f\" %  area_std}')\n",
    "\n",
    "area_median = np.median(y)\n",
    "print(f'area median is: {\"%.0f\"% area_median}')\n",
    "\n",
    "area_mode = stats.mode(y)\n",
    "print(f'mode is: { area_mode}')"
   ]
  },
  {
   "cell_type": "code",
   "execution_count": null,
   "id": "53f90aa6",
   "metadata": {},
   "outputs": [],
   "source": []
  },
  {
   "cell_type": "code",
   "execution_count": null,
   "id": "44671392",
   "metadata": {},
   "outputs": [],
   "source": [
    "speed = [85,88,89,85,89,85,87] \n",
    "\n",
    "x = np.std(speed)\n",
    "print(x)\n",
    "\n",
    "y= stats.mode(speed)\n",
    "print(y)\n",
    "\n",
    "a = np.median(speed)\n",
    "print(a) \n",
    "\n",
    "b = np.mean(speed)\n",
    "print(b)"
   ]
  },
  {
   "cell_type": "code",
   "execution_count": null,
   "id": "02e85bd3",
   "metadata": {},
   "outputs": [],
   "source": [
    "s = pd.Series([85,88,89,85,89,85,87])\n",
    "\n",
    "ax = s.plot.kde()\n",
    "\n"
   ]
  },
  {
   "cell_type": "code",
   "execution_count": null,
   "id": "82e05782",
   "metadata": {},
   "outputs": [],
   "source": [
    "s = pd.Series([86,88,89,86,89,85,86])\n",
    "sns.displot(s, kind='hist', kde=True, aspect=1.2)\n",
    "\n"
   ]
  },
  {
   "cell_type": "code",
   "execution_count": null,
   "id": "b43800fa",
   "metadata": {},
   "outputs": [],
   "source": [
    "sns.displot(df, x='price', kind='hist',  kde=True, aspect=2)\n",
    "#{“hist”, “kde”, “ecdf”}\n",
    "plt.ticklabel_format(style='plain', useOffset=False, axis='x')"
   ]
  },
  {
   "cell_type": "code",
   "execution_count": null,
   "id": "ec9f467b",
   "metadata": {},
   "outputs": [],
   "source": [
    "sns.displot(df, x='area', kind='hist',  kde=True, aspect=2)\n",
    "#{“hist”, “kde”, “ecdf”}\n",
    "plt.ticklabel_format(style='plain', useOffset=False, axis='x')"
   ]
  },
  {
   "cell_type": "code",
   "execution_count": null,
   "id": "8d0a1879",
   "metadata": {},
   "outputs": [],
   "source": [
    "#penguins = sns.load_dataset(\"b\")\n",
    "#sns.displot(data=penguins, x=\"flipper_length_mm\")\n",
    "\n",
    "sns.displot(df['area'],  kde=True, aspect=2)"
   ]
  },
  {
   "cell_type": "code",
   "execution_count": null,
   "id": "02ca40b1",
   "metadata": {},
   "outputs": [],
   "source": [
    "sns.displot(df['price'])"
   ]
  },
  {
   "cell_type": "code",
   "execution_count": null,
   "id": "7c32d0e1",
   "metadata": {},
   "outputs": [],
   "source": [
    "sns.displot(df, x=\"price\", y=\"area\", kind=\"kde\", aspect =2)\n",
    "\n",
    "plt.ticklabel_format(style='plain', useOffset=False, axis='x')"
   ]
  },
  {
   "cell_type": "code",
   "execution_count": null,
   "id": "1ef09df1",
   "metadata": {},
   "outputs": [],
   "source": [
    "f = df.loc[df['location'].str.contains(\"poznan\", case=False)]\n",
    "\n",
    "print(f)  #szuka nazwy po fragmencie\n",
    "        "
   ]
  },
  {
   "cell_type": "code",
   "execution_count": null,
   "id": "74f0d5e9",
   "metadata": {},
   "outputs": [],
   "source": [
    "y_location = f['area']\n",
    "print(y_location)"
   ]
  },
  {
   "cell_type": "code",
   "execution_count": null,
   "id": "be455ccd",
   "metadata": {},
   "outputs": [],
   "source": [
    "%matplotlib inline\n",
    "plt.figure(figsize=(10, 5))\n",
    "plt.xlabel('price(PLN)')\n",
    "plt.ylabel('area(m^2)')\n",
    "x = np.arange(0, 2000000, 2)\n",
    "\n",
    "plt.scatter(df.price, df.area, color='red', marker=\"+\")\n",
    "plt.scatter(f.price,f.area, color='blue', marker=\"o\")\n",
    "plt.plot(df.price, regr.predict(df[['price']]), color='green')\n",
    "\n",
    "plt.ticklabel_format(style='plain', useOffset=False, axis='y') \n",
    "plt.ticklabel_format(style='plain', useOffset=False, axis='x')"
   ]
  },
  {
   "cell_type": "code",
   "execution_count": null,
   "id": "5e5e873d",
   "metadata": {},
   "outputs": [],
   "source": [
    "d = pd.read_csv(\"b4p1.csv\")\n",
    "d.head(3)"
   ]
  },
  {
   "cell_type": "code",
   "execution_count": null,
   "id": "50303163",
   "metadata": {},
   "outputs": [],
   "source": [
    "p = regr.predict(d)"
   ]
  },
  {
   "cell_type": "code",
   "execution_count": null,
   "id": "42c1515e",
   "metadata": {},
   "outputs": [],
   "source": [
    "d['price'] = p\n"
   ]
  },
  {
   "cell_type": "code",
   "execution_count": null,
   "id": "8ea80ac0",
   "metadata": {},
   "outputs": [],
   "source": [
    "d.to_csv(\"b4p2.csv\", index=False)"
   ]
  },
  {
   "cell_type": "code",
   "execution_count": null,
   "id": "0e050646",
   "metadata": {},
   "outputs": [],
   "source": [
    "d1 = pd.read_csv(\"b4p2.csv\")\n",
    "d1.head(3)"
   ]
  },
  {
   "cell_type": "code",
   "execution_count": null,
   "id": "4647b8b4",
   "metadata": {},
   "outputs": [],
   "source": [
    "df1 = pd.read_csv(\"b4p2.csv\")\n",
    "x1 = pd.read_csv('b4p2.csv', usecols=['price'])\n",
    "y1 = pd.read_csv('b4p2.csv', usecols=['area'])"
   ]
  },
  {
   "cell_type": "code",
   "execution_count": null,
   "id": "e65952b7",
   "metadata": {},
   "outputs": [],
   "source": [
    "%matplotlib inline\n",
    "plt.xlabel('area(sqr ft)')\n",
    "plt.ylabel('price(US$)')\n",
    "plt.scatter(df1.area,df1.price, color='red', marker=\"+\")\n",
    "#plt.plot(df.area,regr.predict(df[['area']]))"
   ]
  },
  {
   "cell_type": "code",
   "execution_count": null,
   "id": "e6d9ad1d",
   "metadata": {},
   "outputs": [],
   "source": [
    "%matplotlib inline\n",
    "plt.xlabel('area(sqr m)')\n",
    "plt.ylabel('price(PLN)')\n",
    "plt.scatter(df.area,df.price, color='red', marker=\"+\")\n",
    "\n",
    "plt.scatter(d1.area, d1.price, color='blue', marker = 'o')\n",
    "\n",
    "#plt.plot(df.area, regr.predict(df[['area']]), color='blue')"
   ]
  },
  {
   "cell_type": "code",
   "execution_count": null,
   "id": "b6fc63f3",
   "metadata": {},
   "outputs": [],
   "source": [
    "plt.scatter(d1.area, d1.price, color='blue', marker = 'o')"
   ]
  }
 ],
 "metadata": {
  "kernelspec": {
   "display_name": "Python (jnenv)",
   "language": "python",
   "name": "jnenv"
  },
  "language_info": {
   "codemirror_mode": {
    "name": "ipython",
    "version": 3
   },
   "file_extension": ".py",
   "mimetype": "text/x-python",
   "name": "python",
   "nbconvert_exporter": "python",
   "pygments_lexer": "ipython3",
   "version": "3.8.10"
  }
 },
 "nbformat": 4,
 "nbformat_minor": 5
}
