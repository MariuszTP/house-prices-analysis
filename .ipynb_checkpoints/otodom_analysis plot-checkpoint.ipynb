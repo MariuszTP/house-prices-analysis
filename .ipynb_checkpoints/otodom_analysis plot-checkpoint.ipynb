{
 "cells": [
  {
   "cell_type": "code",
   "execution_count": 1341,
   "id": "8012681a",
   "metadata": {},
   "outputs": [],
   "source": [
    "import pandas as pd\n",
    "import numpy as np\n",
    "import matplotlib.pyplot as plt\n",
    "import re\n",
    "import seaborn as sns\n",
    "from scipy import stats\n",
    "\n",
    "\n",
    "from sklearn import datasets, linear_model\n",
    "from sklearn.metrics import mean_squared_error, r2_score"
   ]
  },
  {
   "cell_type": "code",
   "execution_count": 1342,
   "id": "75e53a5d",
   "metadata": {},
   "outputs": [
    {
     "data": {
      "text/html": [
       "<div>\n",
       "<style scoped>\n",
       "    .dataframe tbody tr th:only-of-type {\n",
       "        vertical-align: middle;\n",
       "    }\n",
       "\n",
       "    .dataframe tbody tr th {\n",
       "        vertical-align: top;\n",
       "    }\n",
       "\n",
       "    .dataframe thead th {\n",
       "        text-align: right;\n",
       "    }\n",
       "</style>\n",
       "<table border=\"1\" class=\"dataframe\">\n",
       "  <thead>\n",
       "    <tr style=\"text-align: right;\">\n",
       "      <th></th>\n",
       "      <th>price</th>\n",
       "      <th>area</th>\n",
       "      <th>Unnamed: 2</th>\n",
       "      <th>location</th>\n",
       "    </tr>\n",
       "  </thead>\n",
       "  <tbody>\n",
       "    <tr>\n",
       "      <th>0</th>\n",
       "      <td>569000</td>\n",
       "      <td>4948</td>\n",
       "      <td>115.0</td>\n",
       "      <td>poznan</td>\n",
       "    </tr>\n",
       "    <tr>\n",
       "      <th>1</th>\n",
       "      <td>689000</td>\n",
       "      <td>4752</td>\n",
       "      <td>145.0</td>\n",
       "      <td>poznan</td>\n",
       "    </tr>\n",
       "    <tr>\n",
       "      <th>2</th>\n",
       "      <td>1100000</td>\n",
       "      <td>7432</td>\n",
       "      <td>148.0</td>\n",
       "      <td>poznanpoznan</td>\n",
       "    </tr>\n",
       "  </tbody>\n",
       "</table>\n",
       "</div>"
      ],
      "text/plain": [
       "     price  area  Unnamed: 2      location\n",
       "0   569000  4948       115.0        poznan\n",
       "1   689000  4752       145.0        poznan\n",
       "2  1100000  7432       148.0  poznanpoznan"
      ]
     },
     "execution_count": 1342,
     "metadata": {},
     "output_type": "execute_result"
    }
   ],
   "source": [
    "df = pd.read_csv(\"c4.csv\")\n",
    "df.head(3)"
   ]
  },
  {
   "cell_type": "code",
   "execution_count": 1343,
   "id": "60127c8a",
   "metadata": {},
   "outputs": [],
   "source": [
    "x = pd.read_csv('c4.csv', usecols=['price']).values\n",
    "y = pd.read_csv('c4.csv', usecols=['area']).values"
   ]
  },
  {
   "cell_type": "code",
   "execution_count": 1344,
   "id": "2182d0f2",
   "metadata": {},
   "outputs": [
    {
     "data": {
      "text/plain": [
       "0    4948\n",
       "1    4752\n",
       "2    7432\n",
       "Name: area, dtype: int64"
      ]
     },
     "execution_count": 1344,
     "metadata": {},
     "output_type": "execute_result"
    }
   ],
   "source": [
    "#c = pd.DataFrame(df['location'])\n",
    "#print(c)\n",
    "\n",
    "#c = pd.DataFrame(df['location'].head())\n",
    "\n",
    "#c = pd.read_csv('c4.csv', usecols=['price'])\n",
    "c = df['price']\n",
    "\n",
    "b = df['area']\n",
    "b.head(3)\n",
    "\n",
    "#c.astype(\"string\")\n",
    "#print(c.head(3))"
   ]
  },
  {
   "cell_type": "code",
   "execution_count": 1345,
   "id": "b3c7a44c",
   "metadata": {},
   "outputs": [
    {
     "name": "stderr",
     "output_type": "stream",
     "text": [
      "C:\\Users\\bekon\\anaconda3\\envs\\jnenv\\lib\\site-packages\\seaborn\\distributions.py:2619: FutureWarning: `distplot` is a deprecated function and will be removed in a future version. Please adapt your code to use either `displot` (a figure-level function with similar flexibility) or `histplot` (an axes-level function for histograms).\n",
      "  warnings.warn(msg, FutureWarning)\n"
     ]
    },
    {
     "data": {
      "text/plain": [
       "<AxesSubplot:xlabel='price'>"
      ]
     },
     "execution_count": 1345,
     "metadata": {},
     "output_type": "execute_result"
    },
    {
     "data": {
      "image/png": "[encoded data removed]",
      "text/plain": [
       "<Figure size 432x288 with 1 Axes>"
      ]
     },
     "metadata": {},
     "output_type": "display_data"
    }
   ],
   "source": [
    "#sns.distplot(['c'])\n",
    "\n",
    "sns.set_style('whitegrid')\n",
    "sns.distplot(df['price'], kde = False, color ='red', bins = 30)"
   ]
  },
  {
   "cell_type": "code",
   "execution_count": 1346,
   "id": "83e2a470",
   "metadata": {},
   "outputs": [
    {
     "data": {
      "image/png": "[encoded data removed]",
      "text/plain": [
       "<Figure size 432x288 with 1 Axes>"
      ]
     },
     "metadata": {},
     "output_type": "display_data"
    }
   ],
   "source": [
    "#sns.distplot('price')\n",
    "#sns.distplot(df['price'], kde = False, color ='red', bins = 30)\n",
    "#plt.show()\n",
    "ax = sns.histplot(x, bins=20, stat='density')\n",
    "\n",
    "#mu, std = stats.norm.fit(x)\n",
    "#xx = np.linspace(*ax.get_xlim(),100)\n",
    "ax.plot(xx, stats.norm.pdf(xx, mu, std));\n",
    "\n"
   ]
  },
  {
   "cell_type": "code",
   "execution_count": 1347,
   "id": "671aa2ef",
   "metadata": {},
   "outputs": [
    {
     "data": {
      "text/plain": [
       "<matplotlib.collections.PathCollection at 0x186c6460af0>"
      ]
     },
     "execution_count": 1347,
     "metadata": {},
     "output_type": "execute_result"
    },
    {
     "data": {
      "image/png": "[encoded data removed]",
      "text/plain": [
       "<Figure size 432x360 with 1 Axes>"
      ]
     },
     "metadata": {
      "needs_background": "light"
     },
     "output_type": "display_data"
    }
   ],
   "source": [
    "%matplotlib inline\n",
    "plt.figure(figsize=(6, 5))\n",
    "plt.xlabel('area(sqr m)')\n",
    "plt.ylabel('price(PLN)')\n",
    "\n",
    "plt.scatter(df.price,df.area, color='red', marker=\"+\")\n"
   ]
  },
  {
   "cell_type": "code",
   "execution_count": 1348,
   "id": "31b4056c",
   "metadata": {},
   "outputs": [
    {
     "data": {
      "image/png": "[encoded data removed]",
      "text/plain": [
       "<Figure size 432x288 with 1 Axes>"
      ]
     },
     "metadata": {
      "needs_background": "light"
     },
     "output_type": "display_data"
    }
   ],
   "source": [
    "axs = c.plot.kde()\n"
   ]
  },
  {
   "cell_type": "code",
   "execution_count": 1349,
   "id": "61c743f8",
   "metadata": {},
   "outputs": [
    {
     "name": "stdout",
     "output_type": "stream",
     "text": [
      "price mean is: 799793\n",
      "standard devietion is: 365170\n",
      "price median is: 657850\n",
      "mode is: ModeResult(mode=array([[379950]], dtype=int64), count=array([[1]]))\n"
     ]
    }
   ],
   "source": [
    "price_mean = np.mean(x)\n",
    "print(f'price mean is: {\"%.0f\" % price_mean}')\n",
    "\n",
    "price_std = np.std(x)\n",
    "print(f'standard devietion is: {\"%.0f\" %  price_std}')\n",
    "\n",
    "price_median = np.median(x)\n",
    "print(f'price median is: {\"%.0f\"% price_median}')\n",
    "\n",
    "price_mode = stats.mode(x)\n",
    "print(f'mode is: { price_mode}')"
   ]
  },
  {
   "cell_type": "code",
   "execution_count": 1350,
   "id": "ad998311",
   "metadata": {},
   "outputs": [
    {
     "data": {
      "text/plain": [
       "<seaborn.axisgrid.FacetGrid at 0x186c617b970>"
      ]
     },
     "execution_count": 1350,
     "metadata": {},
     "output_type": "execute_result"
    },
    {
     "data": {
      "image/png": "[encoded data removed]",
      "text/plain": [
       "<Figure size 432x360 with 1 Axes>"
      ]
     },
     "metadata": {
      "needs_background": "light"
     },
     "output_type": "display_data"
    }
   ],
   "source": [
    "sns.displot(df, x='area', kind='hist', kde=True, aspect=1.2)"
   ]
  },
  {
   "cell_type": "code",
   "execution_count": 1351,
   "id": "52cf4dd0",
   "metadata": {},
   "outputs": [
    {
     "data": {
      "image/png": "[encoded data removed]",
      "text/plain": [
       "<Figure size 432x288 with 1 Axes>"
      ]
     },
     "metadata": {
      "needs_background": "light"
     },
     "output_type": "display_data"
    }
   ],
   "source": [
    "axs = b.plot.kde()"
   ]
  },
  {
   "cell_type": "code",
   "execution_count": 1352,
   "id": "ee6d3905",
   "metadata": {},
   "outputs": [
    {
     "name": "stdout",
     "output_type": "stream",
     "text": [
      "area mean is: 6430\n",
      "standard devietion is: 1485\n",
      "area median is: 5925\n",
      "mode is: ModeResult(mode=array([[5300]], dtype=int64), count=array([[3]]))\n"
     ]
    }
   ],
   "source": [
    "area_mean = np.mean(y)\n",
    "print(f'area mean is: {\"%.0f\" % area_mean}')\n",
    "\n",
    "area_std = np.std(y)\n",
    "print(f'standard devietion is: {\"%.0f\" %  area_std}')\n",
    "\n",
    "area_median = np.median(y)\n",
    "print(f'area median is: {\"%.0f\"% area_median}')\n",
    "\n",
    "area_mode = stats.mode(y)\n",
    "print(f'mode is: { area_mode}')"
   ]
  },
  {
   "cell_type": "code",
   "execution_count": null,
   "id": "1e0ecb25",
   "metadata": {},
   "outputs": [],
   "source": []
  },
  {
   "cell_type": "code",
   "execution_count": 1353,
   "id": "ca75f60d",
   "metadata": {},
   "outputs": [
    {
     "name": "stdout",
     "output_type": "stream",
     "text": [
      "1.7261494247992246\n",
      "ModeResult(mode=array([85]), count=array([3]))\n",
      "87.0\n",
      "86.85714285714286\n"
     ]
    }
   ],
   "source": [
    "speed = [85,88,89,85,89,85,87] \n",
    "\n",
    "x = np.std(speed)\n",
    "print(x)\n",
    "\n",
    "y= stats.mode(speed)\n",
    "print(y)\n",
    "\n",
    "a = np.median(speed)\n",
    "print(a) \n",
    "\n",
    "b = np.mean(speed)\n",
    "print(b)"
   ]
  },
  {
   "cell_type": "code",
   "execution_count": 1354,
   "id": "b58e4b72",
   "metadata": {},
   "outputs": [
    {
     "data": {
      "image/png": "[encoded data removed]",
      "text/plain": [
       "<Figure size 432x288 with 1 Axes>"
      ]
     },
     "metadata": {
      "needs_background": "light"
     },
     "output_type": "display_data"
    }
   ],
   "source": [
    "s = pd.Series([85,88,89,85,89,85,87])\n",
    "\n",
    "ax = s.plot.kde()"
   ]
  },
  {
   "cell_type": "code",
   "execution_count": 1355,
   "id": "a983bf6a",
   "metadata": {},
   "outputs": [
    {
     "data": {
      "text/plain": [
       "<seaborn.axisgrid.FacetGrid at 0x186c5fcabb0>"
      ]
     },
     "execution_count": 1355,
     "metadata": {},
     "output_type": "execute_result"
    },
    {
     "data": {
      "image/png": "[encoded data removed]",
      "text/plain": [
       "<Figure size 360x360 with 1 Axes>"
      ]
     },
     "metadata": {
      "needs_background": "light"
     },
     "output_type": "display_data"
    }
   ],
   "source": [
    "s = pd.Series([86,88,89,86,89,85,86])\n",
    "sns.displot(s, kind='hist', kde=True, aspect=1)"
   ]
  },
  {
   "cell_type": "code",
   "execution_count": 1356,
   "id": "0d3238f8",
   "metadata": {},
   "outputs": [
    {
     "data": {
      "text/plain": [
       "<seaborn.axisgrid.FacetGrid at 0x186c3566130>"
      ]
     },
     "execution_count": 1356,
     "metadata": {},
     "output_type": "execute_result"
    },
    {
     "data": {
      "image/png": "[encoded data removed]",
      "text/plain": [
       "<Figure size 432x360 with 1 Axes>"
      ]
     },
     "metadata": {
      "needs_background": "light"
     },
     "output_type": "display_data"
    }
   ],
   "source": [
    "sns.displot(df, x='price', kind='hist', kde=True, aspect=1.2)"
   ]
  },
  {
   "cell_type": "code",
   "execution_count": 1357,
   "id": "1ef09df1",
   "metadata": {},
   "outputs": [
    {
     "name": "stdout",
     "output_type": "stream",
     "text": [
      "      price   area  Unnamed: 2      location\n",
      "0    569000   4948      115.00        poznan\n",
      "1    689000   4752      145.00        poznan\n",
      "2   1100000   7432      148.00  poznanpoznan\n",
      "3   1950000   6094      320.00        poznan\n",
      "4   1280000   9846      130.00        poznan\n",
      "5   1495000   7328      204.00        poznan\n",
      "23   657850   5900      111.50        poznan\n",
      "24   507740   5300       95.80        poznan\n",
      "25  1099000   5495      200.00        poznan\n",
      "26   899000  11162       80.54        poznan\n"
     ]
    }
   ],
   "source": [
    "f = df.loc[df['location'].str.contains(\"poznan\", case=False)]\n",
    "\n",
    "print(f)  #szuka nazwy po fragmencie\n",
    "        "
   ]
  },
  {
   "cell_type": "code",
   "execution_count": 1358,
   "id": "74f0d5e9",
   "metadata": {},
   "outputs": [
    {
     "name": "stdout",
     "output_type": "stream",
     "text": [
      "0      4948\n",
      "1      4752\n",
      "2      7432\n",
      "3      6094\n",
      "4      9846\n",
      "5      7328\n",
      "23     5900\n",
      "24     5300\n",
      "25     5495\n",
      "26    11162\n",
      "Name: area, dtype: int64\n"
     ]
    }
   ],
   "source": [
    "y_location = f['area']\n",
    "print(y_location)"
   ]
  },
  {
   "cell_type": "code",
   "execution_count": 1359,
   "id": "be455ccd",
   "metadata": {},
   "outputs": [
    {
     "name": "stderr",
     "output_type": "stream",
     "text": [
      "C:\\Users\\bekon\\anaconda3\\envs\\jnenv\\lib\\site-packages\\sklearn\\base.py:443: UserWarning: X has feature names, but LinearRegression was fitted without feature names\n",
      "  warnings.warn(\n"
     ]
    },
    {
     "data": {
      "text/plain": [
       "[<matplotlib.lines.Line2D at 0x186c350f190>]"
      ]
     },
     "execution_count": 1359,
     "metadata": {},
     "output_type": "execute_result"
    },
    {
     "data": {
      "image/png": "[encoded data removed]",
      "text/plain": [
       "<Figure size 720x360 with 1 Axes>"
      ]
     },
     "metadata": {
      "needs_background": "light"
     },
     "output_type": "display_data"
    }
   ],
   "source": [
    "%matplotlib inline\n",
    "plt.figure(figsize=(10, 5))\n",
    "plt.xlabel('area(sqr m)')\n",
    "plt.ylabel('price(PLN)')\n",
    "plt.scatter(df.price,df.area, color='red', marker=\"+\")\n",
    "\n",
    "plt.scatter(f.price,f.area, color='blue', marker=\"o\")\n",
    "\n",
    "plt.plot(df.price, regr.predict(df[['price']]), color='blue')"
   ]
  },
  {
   "cell_type": "code",
   "execution_count": 1360,
   "id": "5e5e873d",
   "metadata": {},
   "outputs": [
    {
     "data": {
      "text/html": [
       "<div>\n",
       "<style scoped>\n",
       "    .dataframe tbody tr th:only-of-type {\n",
       "        vertical-align: middle;\n",
       "    }\n",
       "\n",
       "    .dataframe tbody tr th {\n",
       "        vertical-align: top;\n",
       "    }\n",
       "\n",
       "    .dataframe thead th {\n",
       "        text-align: right;\n",
       "    }\n",
       "</style>\n",
       "<table border=\"1\" class=\"dataframe\">\n",
       "  <thead>\n",
       "    <tr style=\"text-align: right;\">\n",
       "      <th></th>\n",
       "      <th>area</th>\n",
       "    </tr>\n",
       "  </thead>\n",
       "  <tbody>\n",
       "    <tr>\n",
       "      <th>0</th>\n",
       "      <td>145.0</td>\n",
       "    </tr>\n",
       "    <tr>\n",
       "      <th>1</th>\n",
       "      <td>148.0</td>\n",
       "    </tr>\n",
       "    <tr>\n",
       "      <th>2</th>\n",
       "      <td>320.0</td>\n",
       "    </tr>\n",
       "  </tbody>\n",
       "</table>\n",
       "</div>"
      ],
      "text/plain": [
       "    area\n",
       "0  145.0\n",
       "1  148.0\n",
       "2  320.0"
      ]
     },
     "execution_count": 1360,
     "metadata": {},
     "output_type": "execute_result"
    }
   ],
   "source": [
    "d = pd.read_csv(\"b4p1.csv\")\n",
    "d.head(3)"
   ]
  },
  {
   "cell_type": "code",
   "execution_count": 1361,
   "id": "a4e6cec1",
   "metadata": {},
   "outputs": [
    {
     "name": "stderr",
     "output_type": "stream",
     "text": [
      "C:\\Users\\bekon\\anaconda3\\envs\\jnenv\\lib\\site-packages\\sklearn\\base.py:443: UserWarning: X has feature names, but LinearRegression was fitted without feature names\n",
      "  warnings.warn(\n"
     ]
    }
   ],
   "source": [
    "p = regr.predict(d)"
   ]
  },
  {
   "cell_type": "code",
   "execution_count": 1362,
   "id": "05251145",
   "metadata": {},
   "outputs": [],
   "source": [
    "d['price'] = p\n"
   ]
  },
  {
   "cell_type": "code",
   "execution_count": 1363,
   "id": "72303257",
   "metadata": {},
   "outputs": [],
   "source": [
    "d.to_csv(\"b4p2.csv\", index=False)"
   ]
  },
  {
   "cell_type": "code",
   "execution_count": 1364,
   "id": "c6632d79",
   "metadata": {},
   "outputs": [
    {
     "data": {
      "text/html": [
       "<div>\n",
       "<style scoped>\n",
       "    .dataframe tbody tr th:only-of-type {\n",
       "        vertical-align: middle;\n",
       "    }\n",
       "\n",
       "    .dataframe tbody tr th {\n",
       "        vertical-align: top;\n",
       "    }\n",
       "\n",
       "    .dataframe thead th {\n",
       "        text-align: right;\n",
       "    }\n",
       "</style>\n",
       "<table border=\"1\" class=\"dataframe\">\n",
       "  <thead>\n",
       "    <tr style=\"text-align: right;\">\n",
       "      <th></th>\n",
       "      <th>area</th>\n",
       "      <th>price</th>\n",
       "    </tr>\n",
       "  </thead>\n",
       "  <tbody>\n",
       "    <tr>\n",
       "      <th>0</th>\n",
       "      <td>145.0</td>\n",
       "      <td>4902.411797</td>\n",
       "    </tr>\n",
       "    <tr>\n",
       "      <th>1</th>\n",
       "      <td>148.0</td>\n",
       "      <td>4902.416743</td>\n",
       "    </tr>\n",
       "    <tr>\n",
       "      <th>2</th>\n",
       "      <td>320.0</td>\n",
       "      <td>4902.700331</td>\n",
       "    </tr>\n",
       "  </tbody>\n",
       "</table>\n",
       "</div>"
      ],
      "text/plain": [
       "    area        price\n",
       "0  145.0  4902.411797\n",
       "1  148.0  4902.416743\n",
       "2  320.0  4902.700331"
      ]
     },
     "execution_count": 1364,
     "metadata": {},
     "output_type": "execute_result"
    }
   ],
   "source": [
    "d1 = pd.read_csv(\"b4p2.csv\")\n",
    "d1.head(3)"
   ]
  },
  {
   "cell_type": "code",
   "execution_count": 1365,
   "id": "490de076",
   "metadata": {},
   "outputs": [],
   "source": [
    "df1 = pd.read_csv(\"b4p2.csv\")\n",
    "x1 = pd.read_csv('b4p2.csv', usecols=['price'])\n",
    "y1 = pd.read_csv('b4p2.csv', usecols=['area'])"
   ]
  },
  {
   "cell_type": "code",
   "execution_count": 1366,
   "id": "57802391",
   "metadata": {},
   "outputs": [
    {
     "data": {
      "text/plain": [
       "<matplotlib.collections.PathCollection at 0x186c3195490>"
      ]
     },
     "execution_count": 1366,
     "metadata": {},
     "output_type": "execute_result"
    },
    {
     "data": {
      "image/png": "[encoded data removed]",
      "text/plain": [
       "<Figure size 432x288 with 1 Axes>"
      ]
     },
     "metadata": {
      "needs_background": "light"
     },
     "output_type": "display_data"
    }
   ],
   "source": [
    "%matplotlib inline\n",
    "plt.xlabel('area(sqr ft)')\n",
    "plt.ylabel('price(US$)')\n",
    "plt.scatter(df1.area,df1.price, color='red', marker=\"+\")\n",
    "#plt.plot(df.area,regr.predict(df[['area']]))"
   ]
  },
  {
   "cell_type": "code",
   "execution_count": 1367,
   "id": "72ae7251",
   "metadata": {},
   "outputs": [
    {
     "data": {
      "text/plain": [
       "<matplotlib.collections.PathCollection at 0x186c1e1a8e0>"
      ]
     },
     "execution_count": 1367,
     "metadata": {},
     "output_type": "execute_result"
    },
    {
     "data": {
      "image/png": "[encoded data removed]",
      "text/plain": [
       "<Figure size 432x288 with 1 Axes>"
      ]
     },
     "metadata": {
      "needs_background": "light"
     },
     "output_type": "display_data"
    }
   ],
   "source": [
    "%matplotlib inline\n",
    "plt.xlabel('area(sqr m)')\n",
    "plt.ylabel('price(PLN)')\n",
    "plt.scatter(df.area,df.price, color='red', marker=\"+\")\n",
    "\n",
    "plt.scatter(d1.area, d1.price, color='blue', marker = 'o')\n",
    "\n",
    "#plt.plot(df.area, regr.predict(df[['area']]), color='blue')"
   ]
  },
  {
   "cell_type": "code",
   "execution_count": 1368,
   "id": "c6026317",
   "metadata": {},
   "outputs": [
    {
     "data": {
      "text/plain": [
       "<matplotlib.collections.PathCollection at 0x186c1d15be0>"
      ]
     },
     "execution_count": 1368,
     "metadata": {},
     "output_type": "execute_result"
    },
    {
     "data": {
      "image/png": "[encoded data removed]",
      "text/plain": [
       "<Figure size 432x288 with 1 Axes>"
      ]
     },
     "metadata": {
      "needs_background": "light"
     },
     "output_type": "display_data"
    }
   ],
   "source": [
    "plt.scatter(d1.area, d1.price, color='blue', marker = 'o')"
   ]
  }
 ],
 "metadata": {
  "kernelspec": {
   "display_name": "Python (jnenv)",
   "language": "python",
   "name": "jnenv"
  },
  "language_info": {
   "codemirror_mode": {
    "name": "ipython",
    "version": 3
   },
   "file_extension": ".py",
   "mimetype": "text/x-python",
   "name": "python",
   "nbconvert_exporter": "python",
   "pygments_lexer": "ipython3",
   "version": "3.8.10"
  }
 },
 "nbformat": 4,
 "nbformat_minor": 5
}
