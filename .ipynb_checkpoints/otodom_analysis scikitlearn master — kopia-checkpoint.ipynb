{
 "cells": [
  {
   "cell_type": "code",
   "execution_count": 3780,
   "id": "8012681a",
   "metadata": {},
   "outputs": [],
   "source": [
    "import pandas as pd\n",
    "import numpy as np\n",
    "import matplotlib.pyplot as plt\n",
    "\n",
    "import seaborn as sns\n",
    "from scipy import stats\n",
    "\n",
    "from sklearn import datasets, linear_model\n",
    "from sklearn.metrics import mean_squared_error, r2_score\n",
    "\n",
    "from sklearn import linear_model\n"
   ]
  },
  {
   "cell_type": "code",
   "execution_count": 3781,
   "id": "75e53a5d",
   "metadata": {
    "scrolled": true
   },
   "outputs": [
    {
     "data": {
      "text/html": [
       "<div>\n",
       "<style scoped>\n",
       "    .dataframe tbody tr th:only-of-type {\n",
       "        vertical-align: middle;\n",
       "    }\n",
       "\n",
       "    .dataframe tbody tr th {\n",
       "        vertical-align: top;\n",
       "    }\n",
       "\n",
       "    .dataframe thead th {\n",
       "        text-align: right;\n",
       "    }\n",
       "</style>\n",
       "<table border=\"1\" class=\"dataframe\">\n",
       "  <thead>\n",
       "    <tr style=\"text-align: right;\">\n",
       "      <th></th>\n",
       "      <th>price</th>\n",
       "      <th>price per m</th>\n",
       "      <th>area</th>\n",
       "      <th>location</th>\n",
       "    </tr>\n",
       "  </thead>\n",
       "  <tbody>\n",
       "    <tr>\n",
       "      <th>0</th>\n",
       "      <td>980000.0</td>\n",
       "      <td>5765</td>\n",
       "      <td>170.0</td>\n",
       "      <td>Poznań Jeżyce Smochowice</td>\n",
       "    </tr>\n",
       "    <tr>\n",
       "      <th>1</th>\n",
       "      <td>6450000.0</td>\n",
       "      <td>13665</td>\n",
       "      <td>472.0</td>\n",
       "      <td>Poznań Jeżyce Sołacz</td>\n",
       "    </tr>\n",
       "    <tr>\n",
       "      <th>2</th>\n",
       "      <td>429000.0</td>\n",
       "      <td>8218</td>\n",
       "      <td>52.2</td>\n",
       "      <td>Suchy Las poznański wielkopolskie</td>\n",
       "    </tr>\n",
       "    <tr>\n",
       "      <th>3</th>\n",
       "      <td>549000.0</td>\n",
       "      <td>5490</td>\n",
       "      <td>100.0</td>\n",
       "      <td>Rokietnica wielkopolskie</td>\n",
       "    </tr>\n",
       "    <tr>\n",
       "      <th>4</th>\n",
       "      <td>1500000.0</td>\n",
       "      <td>559701</td>\n",
       "      <td>268.0</td>\n",
       "      <td>Poznań wielkopolskie</td>\n",
       "    </tr>\n",
       "    <tr>\n",
       "      <th>...</th>\n",
       "      <td>...</td>\n",
       "      <td>...</td>\n",
       "      <td>...</td>\n",
       "      <td>...</td>\n",
       "    </tr>\n",
       "    <tr>\n",
       "      <th>2529</th>\n",
       "      <td>1700000.0</td>\n",
       "      <td>6800</td>\n",
       "      <td>250.0</td>\n",
       "      <td>Gniezno wielkopolskie</td>\n",
       "    </tr>\n",
       "    <tr>\n",
       "      <th>2530</th>\n",
       "      <td>6500000.0</td>\n",
       "      <td>11818</td>\n",
       "      <td>550.0</td>\n",
       "      <td>Poznań Stare Miasto Centrum rynek Stary Rynek</td>\n",
       "    </tr>\n",
       "    <tr>\n",
       "      <th>2531</th>\n",
       "      <td>4900000.0</td>\n",
       "      <td>4016</td>\n",
       "      <td>1220.0</td>\n",
       "      <td>Poznań Stare Miasto Centrum rynek Stary Rynek</td>\n",
       "    </tr>\n",
       "    <tr>\n",
       "      <th>2532</th>\n",
       "      <td>634900.0</td>\n",
       "      <td>5879</td>\n",
       "      <td>108.0</td>\n",
       "      <td>ul. Szkolna Robakowo wielkopolskie</td>\n",
       "    </tr>\n",
       "    <tr>\n",
       "      <th>2533</th>\n",
       "      <td>389000.0</td>\n",
       "      <td>3890</td>\n",
       "      <td>100.0</td>\n",
       "      <td>Przecław wielkopolskie</td>\n",
       "    </tr>\n",
       "  </tbody>\n",
       "</table>\n",
       "<p>2534 rows × 4 columns</p>\n",
       "</div>"
      ],
      "text/plain": [
       "          price  price per m    area  \\\n",
       "0      980000.0         5765   170.0   \n",
       "1     6450000.0        13665   472.0   \n",
       "2      429000.0         8218    52.2   \n",
       "3      549000.0         5490   100.0   \n",
       "4     1500000.0       559701   268.0   \n",
       "...         ...          ...     ...   \n",
       "2529  1700000.0         6800   250.0   \n",
       "2530  6500000.0        11818   550.0   \n",
       "2531  4900000.0         4016  1220.0   \n",
       "2532   634900.0         5879   108.0   \n",
       "2533   389000.0         3890   100.0   \n",
       "\n",
       "                                           location  \n",
       "0                          Poznań Jeżyce Smochowice  \n",
       "1                              Poznań Jeżyce Sołacz  \n",
       "2                 Suchy Las poznański wielkopolskie  \n",
       "3                          Rokietnica wielkopolskie  \n",
       "4                              Poznań wielkopolskie  \n",
       "...                                             ...  \n",
       "2529                          Gniezno wielkopolskie  \n",
       "2530  Poznań Stare Miasto Centrum rynek Stary Rynek  \n",
       "2531  Poznań Stare Miasto Centrum rynek Stary Rynek  \n",
       "2532             ul. Szkolna Robakowo wielkopolskie  \n",
       "2533                         Przecław wielkopolskie  \n",
       "\n",
       "[2534 rows x 4 columns]"
      ]
     },
     "execution_count": 3781,
     "metadata": {},
     "output_type": "execute_result"
    }
   ],
   "source": [
    "df_1 = pd.read_csv(\"otodom advertisments all from poznan1.csv\")\n",
    "df_1\n",
    "#df.head(3)"
   ]
  },
  {
   "cell_type": "code",
   "execution_count": 3782,
   "id": "8821bf73",
   "metadata": {},
   "outputs": [
    {
     "data": {
      "text/html": [
       "<div>\n",
       "<style scoped>\n",
       "    .dataframe tbody tr th:only-of-type {\n",
       "        vertical-align: middle;\n",
       "    }\n",
       "\n",
       "    .dataframe tbody tr th {\n",
       "        vertical-align: top;\n",
       "    }\n",
       "\n",
       "    .dataframe thead th {\n",
       "        text-align: right;\n",
       "    }\n",
       "</style>\n",
       "<table border=\"1\" class=\"dataframe\">\n",
       "  <thead>\n",
       "    <tr style=\"text-align: right;\">\n",
       "      <th></th>\n",
       "      <th>price</th>\n",
       "      <th>price per m</th>\n",
       "      <th>area</th>\n",
       "      <th>location</th>\n",
       "    </tr>\n",
       "  </thead>\n",
       "  <tbody>\n",
       "    <tr>\n",
       "      <th>0</th>\n",
       "      <td>980000.0</td>\n",
       "      <td>5765</td>\n",
       "      <td>170.0</td>\n",
       "      <td>Poznań Jeżyce Smochowice</td>\n",
       "    </tr>\n",
       "    <tr>\n",
       "      <th>1</th>\n",
       "      <td>6450000.0</td>\n",
       "      <td>13665</td>\n",
       "      <td>472.0</td>\n",
       "      <td>Poznań Jeżyce Sołacz</td>\n",
       "    </tr>\n",
       "    <tr>\n",
       "      <th>2</th>\n",
       "      <td>429000.0</td>\n",
       "      <td>8218</td>\n",
       "      <td>52.2</td>\n",
       "      <td>Suchy Las poznański wielkopolskie</td>\n",
       "    </tr>\n",
       "    <tr>\n",
       "      <th>3</th>\n",
       "      <td>549000.0</td>\n",
       "      <td>5490</td>\n",
       "      <td>100.0</td>\n",
       "      <td>Rokietnica wielkopolskie</td>\n",
       "    </tr>\n",
       "    <tr>\n",
       "      <th>4</th>\n",
       "      <td>1500000.0</td>\n",
       "      <td>559701</td>\n",
       "      <td>268.0</td>\n",
       "      <td>Poznań wielkopolskie</td>\n",
       "    </tr>\n",
       "    <tr>\n",
       "      <th>...</th>\n",
       "      <td>...</td>\n",
       "      <td>...</td>\n",
       "      <td>...</td>\n",
       "      <td>...</td>\n",
       "    </tr>\n",
       "    <tr>\n",
       "      <th>2529</th>\n",
       "      <td>1700000.0</td>\n",
       "      <td>6800</td>\n",
       "      <td>250.0</td>\n",
       "      <td>Gniezno wielkopolskie</td>\n",
       "    </tr>\n",
       "    <tr>\n",
       "      <th>2530</th>\n",
       "      <td>6500000.0</td>\n",
       "      <td>11818</td>\n",
       "      <td>550.0</td>\n",
       "      <td>Poznań Stare Miasto Centrum rynek Stary Rynek</td>\n",
       "    </tr>\n",
       "    <tr>\n",
       "      <th>2531</th>\n",
       "      <td>4900000.0</td>\n",
       "      <td>4016</td>\n",
       "      <td>1220.0</td>\n",
       "      <td>Poznań Stare Miasto Centrum rynek Stary Rynek</td>\n",
       "    </tr>\n",
       "    <tr>\n",
       "      <th>2532</th>\n",
       "      <td>634900.0</td>\n",
       "      <td>5879</td>\n",
       "      <td>108.0</td>\n",
       "      <td>ul. Szkolna Robakowo wielkopolskie</td>\n",
       "    </tr>\n",
       "    <tr>\n",
       "      <th>2533</th>\n",
       "      <td>389000.0</td>\n",
       "      <td>3890</td>\n",
       "      <td>100.0</td>\n",
       "      <td>Przecław wielkopolskie</td>\n",
       "    </tr>\n",
       "  </tbody>\n",
       "</table>\n",
       "<p>2500 rows × 4 columns</p>\n",
       "</div>"
      ],
      "text/plain": [
       "          price  price per m    area  \\\n",
       "0      980000.0         5765   170.0   \n",
       "1     6450000.0        13665   472.0   \n",
       "2      429000.0         8218    52.2   \n",
       "3      549000.0         5490   100.0   \n",
       "4     1500000.0       559701   268.0   \n",
       "...         ...          ...     ...   \n",
       "2529  1700000.0         6800   250.0   \n",
       "2530  6500000.0        11818   550.0   \n",
       "2531  4900000.0         4016  1220.0   \n",
       "2532   634900.0         5879   108.0   \n",
       "2533   389000.0         3890   100.0   \n",
       "\n",
       "                                           location  \n",
       "0                          Poznań Jeżyce Smochowice  \n",
       "1                              Poznań Jeżyce Sołacz  \n",
       "2                 Suchy Las poznański wielkopolskie  \n",
       "3                          Rokietnica wielkopolskie  \n",
       "4                              Poznań wielkopolskie  \n",
       "...                                             ...  \n",
       "2529                          Gniezno wielkopolskie  \n",
       "2530  Poznań Stare Miasto Centrum rynek Stary Rynek  \n",
       "2531  Poznań Stare Miasto Centrum rynek Stary Rynek  \n",
       "2532             ul. Szkolna Robakowo wielkopolskie  \n",
       "2533                         Przecław wielkopolskie  \n",
       "\n",
       "[2500 rows x 4 columns]"
      ]
     },
     "execution_count": 3782,
     "metadata": {},
     "output_type": "execute_result"
    }
   ],
   "source": [
    "df = df_1.dropna()\n",
    "df"
   ]
  },
  {
   "cell_type": "code",
   "execution_count": 3783,
   "id": "be455ccd",
   "metadata": {},
   "outputs": [
    {
     "data": {
      "image/png": "[encoded data removed]",
      "text/plain": [
       "<Figure size 720x360 with 1 Axes>"
      ]
     },
     "metadata": {
      "needs_background": "light"
     },
     "output_type": "display_data"
    }
   ],
   "source": [
    "%matplotlib inline\n",
    "plt.figure(figsize=(10, 5))\n",
    "plt.ylabel('area(sqr m)')\n",
    "plt.xlabel('price(PLN)')\n",
    "plt.title(\"All data scatter plot\")\n",
    "plt.scatter(df.price,df.area, color='red', marker=\"+\")\n",
    "#plt.plot(df.price, reg.predict(df[['price']]), color='blue')\n",
    "\n",
    "plt.ticklabel_format(style='plain', useOffset=False, axis='x')"
   ]
  },
  {
   "cell_type": "code",
   "execution_count": 3784,
   "id": "fa818e6d",
   "metadata": {},
   "outputs": [
    {
     "data": {
      "text/plain": [
       "10999000.0"
      ]
     },
     "execution_count": 3784,
     "metadata": {},
     "output_type": "execute_result"
    }
   ],
   "source": [
    "df1 = df.loc[df[\"price\"] <= 25000000 ]\n",
    "df1['price'].max()\n"
   ]
  },
  {
   "cell_type": "code",
   "execution_count": 3785,
   "id": "00e9e9ad",
   "metadata": {},
   "outputs": [
    {
     "data": {
      "text/plain": [
       "2494"
      ]
     },
     "execution_count": 3785,
     "metadata": {},
     "output_type": "execute_result"
    }
   ],
   "source": [
    "df1['price'].count()"
   ]
  },
  {
   "cell_type": "code",
   "execution_count": 3786,
   "id": "64c16907",
   "metadata": {},
   "outputs": [
    {
     "data": {
      "text/plain": [
       "2494"
      ]
     },
     "execution_count": 3786,
     "metadata": {},
     "output_type": "execute_result"
    }
   ],
   "source": [
    "df1['area'].count()"
   ]
  },
  {
   "cell_type": "code",
   "execution_count": 3787,
   "id": "73d006ed",
   "metadata": {},
   "outputs": [
    {
     "data": {
      "text/plain": [
       "8799.0"
      ]
     },
     "execution_count": 3787,
     "metadata": {},
     "output_type": "execute_result"
    }
   ],
   "source": [
    "df1['area'].max()"
   ]
  },
  {
   "cell_type": "code",
   "execution_count": 3788,
   "id": "8749abad",
   "metadata": {},
   "outputs": [
    {
     "data": {
      "text/plain": [
       "1935.76"
      ]
     },
     "execution_count": 3788,
     "metadata": {},
     "output_type": "execute_result"
    }
   ],
   "source": [
    "df2 = df1.loc[df1[\"area\"] <= 2000 ]\n",
    "df2['area'].max()"
   ]
  },
  {
   "cell_type": "code",
   "execution_count": 3789,
   "id": "1370a5f8",
   "metadata": {},
   "outputs": [
    {
     "data": {
      "text/plain": [
       "2488"
      ]
     },
     "execution_count": 3789,
     "metadata": {},
     "output_type": "execute_result"
    }
   ],
   "source": [
    "df2['area'].count()"
   ]
  },
  {
   "cell_type": "code",
   "execution_count": 3790,
   "id": "ef9c5a43",
   "metadata": {},
   "outputs": [
    {
     "data": {
      "text/plain": [
       "1935.76"
      ]
     },
     "execution_count": 3790,
     "metadata": {},
     "output_type": "execute_result"
    }
   ],
   "source": [
    "df2['area'].max()"
   ]
  },
  {
   "cell_type": "code",
   "execution_count": 3791,
   "id": "633f1c43",
   "metadata": {},
   "outputs": [
    {
     "data": {
      "text/plain": [
       "2488"
      ]
     },
     "execution_count": 3791,
     "metadata": {},
     "output_type": "execute_result"
    }
   ],
   "source": [
    "df2['price'].count()"
   ]
  },
  {
   "cell_type": "code",
   "execution_count": 3792,
   "id": "c2bbcdd8",
   "metadata": {},
   "outputs": [
    {
     "data": {
      "text/plain": [
       "10999000.0"
      ]
     },
     "execution_count": 3792,
     "metadata": {},
     "output_type": "execute_result"
    }
   ],
   "source": [
    "df2['price'].max()"
   ]
  },
  {
   "cell_type": "code",
   "execution_count": 3793,
   "id": "909883e4",
   "metadata": {},
   "outputs": [
    {
     "data": {
      "image/png": "[encoded data removed]",
      "text/plain": [
       "<Figure size 720x360 with 1 Axes>"
      ]
     },
     "metadata": {
      "needs_background": "light"
     },
     "output_type": "display_data"
    }
   ],
   "source": [
    "%matplotlib inline\n",
    "plt.figure(figsize=(10, 5))\n",
    "plt.ylabel('area(sqr m)')\n",
    "plt.xlabel('price(PLN)')\n",
    "plt.title(\"prices limited to 1.5 mln PLN\")\n",
    "plt.scatter(df2.price,df2.area, color='red', marker=\"+\")\n",
    "#plt.plot(df.price, reg.predict(df[['price']]), color='blue')\n",
    "\n",
    "plt.ticklabel_format(style='plain', useOffset=False, axis='x')"
   ]
  },
  {
   "cell_type": "code",
   "execution_count": 3794,
   "id": "91d56f56",
   "metadata": {},
   "outputs": [
    {
     "name": "stdout",
     "output_type": "stream",
     "text": [
      "[[ 980000.]\n",
      " [6450000.]\n",
      " [ 429000.]\n",
      " ...\n",
      " [4900000.]\n",
      " [ 634900.]\n",
      " [ 389000.]]\n",
      "[[ 170. ]\n",
      " [ 472. ]\n",
      " [  52.2]\n",
      " ...\n",
      " [1220. ]\n",
      " [ 108. ]\n",
      " [ 100. ]]\n"
     ]
    }
   ],
   "source": [
    "x = pd.DataFrame(df2['price']).values\n",
    "y = pd.DataFrame(df2['area']).values\n",
    "\n",
    "print(x)\n",
    "print(y)"
   ]
  },
  {
   "cell_type": "code",
   "execution_count": 3795,
   "id": "11d2f1c4",
   "metadata": {},
   "outputs": [],
   "source": [
    "#realpython"
   ]
  },
  {
   "cell_type": "code",
   "execution_count": null,
   "id": "3e0f0f4f",
   "metadata": {},
   "outputs": [],
   "source": [
    "\n"
   ]
  },
  {
   "cell_type": "code",
   "execution_count": 3796,
   "id": "881d9cb9",
   "metadata": {},
   "outputs": [],
   "source": [
    "reg = linear_model.LinearRegression().fit(x, y)"
   ]
  },
  {
   "cell_type": "code",
   "execution_count": 3797,
   "id": "be06dba3",
   "metadata": {},
   "outputs": [
    {
     "name": "stdout",
     "output_type": "stream",
     "text": [
      "0.6438334354358426\n"
     ]
    }
   ],
   "source": [
    "r_sq = reg.score(x, y)\n",
    "print(r_sq)"
   ]
  },
  {
   "cell_type": "code",
   "execution_count": 3798,
   "id": "9bc8d38e",
   "metadata": {},
   "outputs": [
    {
     "name": "stdout",
     "output_type": "stream",
     "text": [
      "[45.44371795]\n"
     ]
    }
   ],
   "source": [
    "print(reg.intercept_)"
   ]
  },
  {
   "cell_type": "code",
   "execution_count": 3799,
   "id": "c2ae658e",
   "metadata": {},
   "outputs": [
    {
     "data": {
      "text/plain": [
       "array([45.44371795])"
      ]
     },
     "execution_count": 3799,
     "metadata": {},
     "output_type": "execute_result"
    }
   ],
   "source": [
    "reg.intercept_"
   ]
  },
  {
   "cell_type": "code",
   "execution_count": 3800,
   "id": "8fc93f74",
   "metadata": {},
   "outputs": [
    {
     "name": "stdout",
     "output_type": "stream",
     "text": [
      "[[0.00011171]]\n"
     ]
    }
   ],
   "source": [
    "print(reg.coef_)"
   ]
  },
  {
   "cell_type": "code",
   "execution_count": 3801,
   "id": "b87cdf30",
   "metadata": {},
   "outputs": [
    {
     "data": {
      "text/plain": [
       "array([[0.00011171]])"
      ]
     },
     "execution_count": 3801,
     "metadata": {},
     "output_type": "execute_result"
    }
   ],
   "source": [
    "reg.coef_"
   ]
  },
  {
   "cell_type": "code",
   "execution_count": 3802,
   "id": "7be7fd19",
   "metadata": {},
   "outputs": [
    {
     "data": {
      "text/plain": [
       "array([[0.00011171]])"
      ]
     },
     "execution_count": 3802,
     "metadata": {},
     "output_type": "execute_result"
    }
   ],
   "source": [
    "reg.coef_"
   ]
  },
  {
   "cell_type": "code",
   "execution_count": null,
   "id": "58e34001",
   "metadata": {},
   "outputs": [],
   "source": []
  },
  {
   "cell_type": "code",
   "execution_count": 3803,
   "id": "afc7c764",
   "metadata": {},
   "outputs": [
    {
     "data": {
      "image/png": "[encoded data removed]",
      "text/plain": [
       "<Figure size 432x288 with 1 Axes>"
      ]
     },
     "metadata": {
      "needs_background": "light"
     },
     "output_type": "display_data"
    }
   ],
   "source": [
    "%matplotlib inline\n",
    "plt.xlabel('area(sqr ft)')\n",
    "plt.ylabel('price(US$)')\n",
    "plt.scatter(x, y)\n",
    "\n",
    "yr = 0.00013822*x +  24.45619312\n",
    "\n",
    "fig = plt.plot(x, yr, color=\"red\")"
   ]
  },
  {
   "cell_type": "code",
   "execution_count": 3804,
   "id": "99d793dd",
   "metadata": {},
   "outputs": [
    {
     "data": {
      "text/plain": [
       "LinearRegression()"
      ]
     },
     "execution_count": 3804,
     "metadata": {},
     "output_type": "execute_result"
    }
   ],
   "source": [
    "reg1 = linear_model.LinearRegression()\n",
    "\n",
    "reg1.fit(df2[['price']],df2[['area']])"
   ]
  },
  {
   "cell_type": "code",
   "execution_count": 3805,
   "id": "05523619",
   "metadata": {},
   "outputs": [
    {
     "name": "stdout",
     "output_type": "stream",
     "text": [
      "0.6438334354358426\n"
     ]
    }
   ],
   "source": [
    "r_sq = reg1.score(df2[['price']],df2[['area']])\n",
    "print(r_sq)"
   ]
  },
  {
   "cell_type": "code",
   "execution_count": 3806,
   "id": "8a0a0347",
   "metadata": {},
   "outputs": [
    {
     "data": {
      "text/plain": [
       "array([[0.00011171]])"
      ]
     },
     "execution_count": 3806,
     "metadata": {},
     "output_type": "execute_result"
    }
   ],
   "source": [
    "reg1.coef_"
   ]
  },
  {
   "cell_type": "code",
   "execution_count": 3807,
   "id": "27e00ad9",
   "metadata": {},
   "outputs": [
    {
     "data": {
      "text/plain": [
       "array([45.44371795])"
      ]
     },
     "execution_count": 3807,
     "metadata": {},
     "output_type": "execute_result"
    }
   ],
   "source": [
    "reg1.intercept_"
   ]
  },
  {
   "cell_type": "code",
   "execution_count": 3808,
   "id": "5c5cba0c",
   "metadata": {},
   "outputs": [
    {
     "data": {
      "text/plain": [
       "[<matplotlib.lines.Line2D at 0x1781d07f4f0>]"
      ]
     },
     "execution_count": 3808,
     "metadata": {},
     "output_type": "execute_result"
    },
    {
     "data": {
      "image/png": "[encoded data removed]",
      "text/plain": [
       "<Figure size 432x288 with 1 Axes>"
      ]
     },
     "metadata": {
      "needs_background": "light"
     },
     "output_type": "display_data"
    }
   ],
   "source": [
    "%matplotlib inline\n",
    "plt.xlabel('price(US$)')\n",
    "plt.ylabel('area(sqr ft)')\n",
    "\n",
    "plt.scatter(df2.price,df2.area, color='red', marker=\"+\")\n",
    "plt.plot(df2.price, reg1.predict(df2[['price']]), color='blue')"
   ]
  },
  {
   "cell_type": "code",
   "execution_count": 3809,
   "id": "0d5531ad",
   "metadata": {},
   "outputs": [
    {
     "name": "stdout",
     "output_type": "stream",
     "text": [
      "          price  price per m    area  \\\n",
      "160    820000.0         7885  104.00   \n",
      "312    499000.0         5781   86.31   \n",
      "314    539000.0         6245   86.31   \n",
      "349    829000.0         8635   96.00   \n",
      "418   1600000.0        10256  156.00   \n",
      "438    485250.0         3408  142.40   \n",
      "820    899000.0         7399  121.50   \n",
      "856    390000.0         2422  161.00   \n",
      "857    546000.0         5935   92.00   \n",
      "858   1200000.0         6417  187.00   \n",
      "1063   800000.0         2326  344.00   \n",
      "1065   545000.0         2096  260.00   \n",
      "1154   260000.0         3250   80.00   \n",
      "1210   949000.0         5931  160.00   \n",
      "1344   628000.0         4945  127.00   \n",
      "1345   628000.0         4945  127.00   \n",
      "1346   628000.0         4945  127.00   \n",
      "1347   520000.0         5474   95.00   \n",
      "1348   520000.0         5474   95.00   \n",
      "1349   628000.0         4945  127.00   \n",
      "1386  1275000.0         5135  248.30   \n",
      "1431   475000.0         5502   86.33   \n",
      "1673   930000.0         5345  174.00   \n",
      "1727   485250.0         3408  142.40   \n",
      "1767   377000.0         6016   62.67   \n",
      "1861   377000.0         6016   62.67   \n",
      "1862   367000.0         5856   62.67   \n",
      "2072   599000.0         5651  106.00   \n",
      "2135   799000.0         4662  171.40   \n",
      "2301   399000.0         1814  220.00   \n",
      "\n",
      "                                              location  \n",
      "160                          Pobiedziska wielkopolskie  \n",
      "312            ul. Słoneczna Pobiedziska wielkopolskie  \n",
      "314            ul. Słoneczna Pobiedziska wielkopolskie  \n",
      "349                          Pobiedziska wielkopolskie  \n",
      "418                          Pobiedziska wielkopolskie  \n",
      "438   ul. por. Sypniewskiego Pobiedziska wielkopolskie  \n",
      "820                Pobiedziska poznański wielkopolskie  \n",
      "856                          Pobiedziska wielkopolskie  \n",
      "857                  Rzeczna Pobiedziska wielkopolskie  \n",
      "858               Łagiewniki Pobiedziska wielkopolskie  \n",
      "1063                         Pobiedziska wielkopolskie  \n",
      "1065     Spadzista Pobiedziska poznański wielkopolskie  \n",
      "1154                         Pobiedziska wielkopolskie  \n",
      "1210                 Bednary Pobiedziska wielkopolskie  \n",
      "1344                 Sielska Pobiedziska wielkopolskie  \n",
      "1345                 Sielska Pobiedziska wielkopolskie  \n",
      "1346                 Sielska Pobiedziska wielkopolskie  \n",
      "1347                 Sielska Pobiedziska wielkopolskie  \n",
      "1348                 Sielska Pobiedziska wielkopolskie  \n",
      "1349                 Sielska Pobiedziska wielkopolskie  \n",
      "1386                         Pobiedziska wielkopolskie  \n",
      "1431                         Pobiedziska wielkopolskie  \n",
      "1673                         Pobiedziska wielkopolskie  \n",
      "1727  ul. por. Sypniewskiego Pobiedziska wielkopolskie  \n",
      "1767                         Pobiedziska wielkopolskie  \n",
      "1861                         Pobiedziska wielkopolskie  \n",
      "1862                         Pobiedziska wielkopolskie  \n",
      "2072                         Pobiedziska wielkopolskie  \n",
      "2135                         Pobiedziska wielkopolskie  \n",
      "2301                         Pobiedziska wielkopolskie  \n"
     ]
    }
   ],
   "source": [
    "f = df2.loc[df2['location'].str.contains(\"pobiedziska\", case=False)]\n",
    "print(f) "
   ]
  },
  {
   "cell_type": "code",
   "execution_count": null,
   "id": "de0a14eb",
   "metadata": {},
   "outputs": [],
   "source": []
  },
  {
   "cell_type": "code",
   "execution_count": 3867,
   "id": "dbdff0b7",
   "metadata": {},
   "outputs": [
    {
     "name": "stdout",
     "output_type": "stream",
     "text": [
      "[[ 820000.]\n",
      " [ 499000.]\n",
      " [ 539000.]\n",
      " [ 829000.]\n",
      " [1600000.]\n",
      " [ 485250.]\n",
      " [ 899000.]\n",
      " [ 390000.]\n",
      " [ 546000.]\n",
      " [1200000.]\n",
      " [ 800000.]\n",
      " [ 545000.]\n",
      " [ 260000.]\n",
      " [ 949000.]\n",
      " [ 628000.]\n",
      " [ 628000.]\n",
      " [ 628000.]\n",
      " [ 520000.]\n",
      " [ 520000.]\n",
      " [ 628000.]\n",
      " [1275000.]\n",
      " [ 475000.]\n",
      " [ 930000.]\n",
      " [ 485250.]\n",
      " [ 377000.]\n",
      " [ 377000.]\n",
      " [ 367000.]\n",
      " [ 599000.]\n",
      " [ 799000.]\n",
      " [ 399000.]]\n",
      "[[104.    86.31  86.31  96.   156.   142.4  121.5  161.    92.   187.\n",
      "  344.   260.    80.   160.   127.   127.   127.    95.    95.   127.\n",
      "  248.3   86.33 174.   142.4   62.67  62.67  62.67 106.   171.4  220.  ]]\n"
     ]
    }
   ],
   "source": [
    "#filter for location\n",
    " \n",
    "x_location= pd.DataFrame(f['price']).values\n",
    "y_location= pd.DataFrame(f['area']).values.reshape(1,-1)\n",
    "\n",
    "print(x_location)\n",
    "print(y_location)"
   ]
  },
  {
   "cell_type": "code",
   "execution_count": 3868,
   "id": "c02c5bf6",
   "metadata": {},
   "outputs": [
    {
     "data": {
      "text/plain": [
       "30"
      ]
     },
     "execution_count": 3868,
     "metadata": {},
     "output_type": "execute_result"
    }
   ],
   "source": [
    "f['price'].count()"
   ]
  },
  {
   "cell_type": "code",
   "execution_count": 3869,
   "id": "8be82d50",
   "metadata": {},
   "outputs": [
    {
     "data": {
      "text/plain": [
       "30"
      ]
     },
     "execution_count": 3869,
     "metadata": {},
     "output_type": "execute_result"
    }
   ],
   "source": [
    "f['area'].count()"
   ]
  },
  {
   "cell_type": "code",
   "execution_count": 3870,
   "id": "ec5c3851",
   "metadata": {},
   "outputs": [],
   "source": [
    "reg_p = linear_model.LinearRegression().fit(x_pobiedziska, y_pobiedziska)\n"
   ]
  },
  {
   "cell_type": "code",
   "execution_count": 3871,
   "id": "50e5f308",
   "metadata": {},
   "outputs": [
    {
     "name": "stdout",
     "output_type": "stream",
     "text": [
      "0.6438334354358426\n"
     ]
    }
   ],
   "source": [
    "r_sq_p = reg_p.score(x_pobiedziska, y_pobiedziska)\n",
    "print(r_sq_p)\n"
   ]
  },
  {
   "cell_type": "code",
   "execution_count": 3872,
   "id": "33079467",
   "metadata": {},
   "outputs": [
    {
     "name": "stdout",
     "output_type": "stream",
     "text": [
      "[45.44371795]\n"
     ]
    }
   ],
   "source": [
    "print(reg_p.intercept_)\n"
   ]
  },
  {
   "cell_type": "code",
   "execution_count": 3873,
   "id": "4771ee3d",
   "metadata": {},
   "outputs": [
    {
     "name": "stdout",
     "output_type": "stream",
     "text": [
      "[[0.00011171]]\n"
     ]
    }
   ],
   "source": [
    "print(reg.coef_)\n"
   ]
  },
  {
   "cell_type": "code",
   "execution_count": 3874,
   "id": "09947228",
   "metadata": {},
   "outputs": [
    {
     "data": {
      "text/plain": [
       "array([[0.00011171]])"
      ]
     },
     "execution_count": 3874,
     "metadata": {},
     "output_type": "execute_result"
    }
   ],
   "source": [
    "\n",
    "reg_p.coef_\n"
   ]
  },
  {
   "cell_type": "code",
   "execution_count": 3877,
   "id": "8acf9136",
   "metadata": {},
   "outputs": [
    {
     "name": "stdout",
     "output_type": "stream",
     "text": [
      "[[137.04788307]\n",
      " [101.18820379]\n",
      " [105.65669965]\n",
      " [138.05329463]\n",
      " [224.18355232]\n",
      " [ 99.65215834]\n",
      " [145.87316239]\n",
      " [ 89.01155258]\n",
      " [106.43868643]\n",
      " [179.49859373]\n",
      " [134.81363514]\n",
      " [106.32697403]\n",
      " [ 74.48894103]\n",
      " [151.45878221]\n",
      " [115.59910294]\n",
      " [115.59910294]\n",
      " [115.59910294]\n",
      " [103.53416412]\n",
      " [103.53416412]\n",
      " [115.59910294]\n",
      " [187.87702347]\n",
      " [ 98.50710628]\n",
      " [149.33624668]\n",
      " [ 99.65215834]\n",
      " [ 87.55929142]\n",
      " [ 87.55929142]\n",
      " [ 86.44216746]\n",
      " [112.35944344]\n",
      " [134.70192274]\n",
      " [ 90.01696414]]\n"
     ]
    }
   ],
   "source": [
    "y_predict_p = reg_p.predict(x_location)\n",
    "print(y_predict_p)"
   ]
  },
  {
   "cell_type": "code",
   "execution_count": 3878,
   "id": "2b64efb2",
   "metadata": {},
   "outputs": [
    {
     "data": {
      "text/plain": [
       "[<matplotlib.lines.Line2D at 0x1781e2c2bb0>]"
      ]
     },
     "execution_count": 3878,
     "metadata": {},
     "output_type": "execute_result"
    },
    {
     "data": {
      "image/png": "[encoded data removed]",
      "text/plain": [
       "<Figure size 432x288 with 1 Axes>"
      ]
     },
     "metadata": {
      "needs_background": "light"
     },
     "output_type": "display_data"
    }
   ],
   "source": [
    "%matplotlib inline\n",
    "plt.xlabel('price(US$)')\n",
    "plt.ylabel('area(sqr ft)')\n",
    "\n",
    "#plt.scatter(x_location,y_location, color='red', marker=\"+\")\n",
    "#plt.plot(x_location, y_predict_p, color='blue')\n",
    "\n",
    "plt.scatter(f.price,f.area, color='red', marker=\"+\")\n",
    "plt.plot(f.price, y_predict_p, color='blue')\n",
    "\n"
   ]
  },
  {
   "cell_type": "code",
   "execution_count": null,
   "id": "512920b8",
   "metadata": {},
   "outputs": [],
   "source": []
  },
  {
   "cell_type": "code",
   "execution_count": 3820,
   "id": "1093d3ae",
   "metadata": {},
   "outputs": [
    {
     "name": "stdout",
     "output_type": "stream",
     "text": [
      "[[ 980000.]\n",
      " [6450000.]\n",
      " [ 429000.]\n",
      " ...\n",
      " [4900000.]\n",
      " [ 634900.]\n",
      " [ 389000.]]\n",
      "[[ 170. ]\n",
      " [ 472. ]\n",
      " [  52.2]\n",
      " ...\n",
      " [1220. ]\n",
      " [ 108. ]\n",
      " [ 100. ]]\n"
     ]
    }
   ],
   "source": [
    "x = pd.DataFrame(df2['price']).values\n",
    "y = pd.DataFrame(df2['area']).values\n",
    "\n",
    "x_train = x[:1000]\n",
    "x_test = x[-1000:]\n",
    "\n",
    "y_train = y[:1000]\n",
    "y_test = y[-1000:]\n",
    "\n",
    "print(x)\n",
    "print(y)"
   ]
  },
  {
   "cell_type": "code",
   "execution_count": null,
   "id": "4c61246b",
   "metadata": {},
   "outputs": [],
   "source": []
  },
  {
   "cell_type": "code",
   "execution_count": 3821,
   "id": "3c5f3973",
   "metadata": {},
   "outputs": [
    {
     "data": {
      "text/plain": [
       "2488"
      ]
     },
     "execution_count": 3821,
     "metadata": {},
     "output_type": "execute_result"
    }
   ],
   "source": [
    "df2['price'].count()\n"
   ]
  },
  {
   "cell_type": "code",
   "execution_count": 3822,
   "id": "60843114",
   "metadata": {},
   "outputs": [
    {
     "data": {
      "text/plain": [
       "2488"
      ]
     },
     "execution_count": 3822,
     "metadata": {},
     "output_type": "execute_result"
    }
   ],
   "source": [
    "df2['area'].count()"
   ]
  },
  {
   "cell_type": "code",
   "execution_count": 3823,
   "id": "b19620a7",
   "metadata": {},
   "outputs": [],
   "source": [
    "#reg = linear_model.LinearRegression().fit(x, y)\n"
   ]
  },
  {
   "cell_type": "code",
   "execution_count": null,
   "id": "6340364a",
   "metadata": {},
   "outputs": [],
   "source": []
  },
  {
   "cell_type": "code",
   "execution_count": 3824,
   "id": "28ac27f3",
   "metadata": {
    "scrolled": true
   },
   "outputs": [],
   "source": [
    "# Create linear regression object\n",
    "regr = linear_model.LinearRegression()\n",
    "\n",
    "# Train the model using the training sets\n",
    "regr.fit(x_train, y_train)\n",
    "\n",
    "# Make predictions using the testing set\n",
    "y_pred = regr.predict(x_test)"
   ]
  },
  {
   "cell_type": "code",
   "execution_count": 3825,
   "id": "b4bb89e7",
   "metadata": {},
   "outputs": [
    {
     "name": "stdout",
     "output_type": "stream",
     "text": [
      "Coefficients: \n",
      " [[9.51123766e-05]]\n",
      "Mean squared error: 8876.78\n",
      "Coefficient of determination: 0.58\n"
     ]
    }
   ],
   "source": [
    "# The coefficients\n",
    "print(\"Coefficients: \\n\", regr.coef_)\n",
    "# The mean squared error\n",
    "print(\"Mean squared error: %.2f\" % mean_squared_error(y_test, y_pred))\n",
    "# The coefficient of determination: 1 is perfect prediction\n",
    "print(\"Coefficient of determination: %.2f\" % r2_score(y_test, y_pred))"
   ]
  },
  {
   "cell_type": "code",
   "execution_count": 3826,
   "id": "e3ea9555",
   "metadata": {},
   "outputs": [
    {
     "name": "stdout",
     "output_type": "stream",
     "text": [
      "0.6258530305669787\n"
     ]
    }
   ],
   "source": [
    "r_sq = regr.score(x, y)\n",
    "print(r_sq)"
   ]
  },
  {
   "cell_type": "code",
   "execution_count": 3866,
   "id": "6c55b359",
   "metadata": {},
   "outputs": [
    {
     "data": {
      "image/png": "[encoded data removed]",
      "text/plain": [
       "<Figure size 864x360 with 1 Axes>"
      ]
     },
     "metadata": {
      "needs_background": "light"
     },
     "output_type": "display_data"
    }
   ],
   "source": [
    "plt.figure(figsize=(12, 5))\n",
    "plt.ylabel('area(sqr m)')\n",
    "plt.xlabel('price(PLN)')\n",
    "plt.title(\"Linear regresison with all coleted data, price limit 1.5 mln PLN, area<150m sqr\")\n",
    "plt.plot(x_test, y_pred, color=\"blue\", linewidth=1)\n",
    "plt.scatter(df4.price,df4.area, color='red', marker=\"+\")\n",
    "plt.ticklabel_format(style='plain', useOffset=False, axis='x')"
   ]
  },
  {
   "cell_type": "code",
   "execution_count": 3828,
   "id": "374e826e",
   "metadata": {},
   "outputs": [
    {
     "data": {
      "text/plain": [
       "Text(0.5, 1.0, 'Price normal distribution')"
      ]
     },
     "execution_count": 3828,
     "metadata": {},
     "output_type": "execute_result"
    },
    {
     "data": {
      "image/png": "[encoded data removed]",
      "text/plain": [
       "<Figure size 720x360 with 1 Axes>"
      ]
     },
     "metadata": {
      "needs_background": "light"
     },
     "output_type": "display_data"
    }
   ],
   "source": [
    "sns.displot(df2, x='price', kind='hist', kde=True, aspect=2)\n",
    "plt.ticklabel_format(style='plain', useOffset=False, axis='x')\n",
    "plt.title(\"Price normal distribution\")"
   ]
  },
  {
   "cell_type": "code",
   "execution_count": null,
   "id": "aaff46a3",
   "metadata": {},
   "outputs": [],
   "source": []
  },
  {
   "cell_type": "code",
   "execution_count": 3829,
   "id": "3e44c156",
   "metadata": {},
   "outputs": [
    {
     "data": {
      "text/plain": [
       "Text(0.5, 1.0, 'Area normal distribution')"
      ]
     },
     "execution_count": 3829,
     "metadata": {},
     "output_type": "execute_result"
    },
    {
     "data": {
      "image/png": "[encoded data removed]",
      "text/plain": [
       "<Figure size 720x360 with 1 Axes>"
      ]
     },
     "metadata": {
      "needs_background": "light"
     },
     "output_type": "display_data"
    }
   ],
   "source": [
    "sns.displot(df2, x='area', kind='hist',  kde=True, aspect=2)\n",
    "#{“hist”, “kde”, “ecdf”}\n",
    "plt.ticklabel_format(style='plain', useOffset=False, axis='x')\n",
    "plt.title(\"Area normal distribution\")"
   ]
  },
  {
   "cell_type": "code",
   "execution_count": 3830,
   "id": "cc0291a6",
   "metadata": {},
   "outputs": [
    {
     "name": "stdout",
     "output_type": "stream",
     "text": [
      "price mean is: 979423\n",
      "standard devietion is: 899710\n",
      "price median is: 700000\n",
      "mode is: ModeResult(mode=array([[599000.]]), count=array([[81]]))\n"
     ]
    }
   ],
   "source": [
    "#Price statistical data\n",
    "price_mean = np.mean(x)\n",
    "print(f'price mean is: {\"%.0f\" % price_mean}')\n",
    "\n",
    "price_std = np.std(x)\n",
    "print(f'standard devietion is: {\"%.0f\" %  price_std}')\n",
    "\n",
    "price_median = np.median(x)\n",
    "print(f'price median is: {\"%.0f\"% price_median}')\n",
    "\n",
    "price_mode = stats.mode(x)\n",
    "print(f'mode is: { price_mode}')"
   ]
  },
  {
   "cell_type": "code",
   "execution_count": 3831,
   "id": "54387416",
   "metadata": {},
   "outputs": [
    {
     "name": "stdout",
     "output_type": "stream",
     "text": [
      "area mean is: 155\n",
      "standard devietion is: 125\n",
      "area median is: 115\n",
      "mode is: ModeResult(mode=array([[91.]]), count=array([[41]]))\n"
     ]
    }
   ],
   "source": [
    "#Area statistical data\n",
    "area_mean = np.mean(y)\n",
    "print(f'area mean is: {\"%.0f\" % area_mean}')\n",
    "\n",
    "area_std = np.std(y)\n",
    "print(f'standard devietion is: {\"%.0f\" %  area_std}')\n",
    "\n",
    "area_median = np.median(y)\n",
    "print(f'area median is: {\"%.0f\"% area_median}')\n",
    "\n",
    "area_mode = stats.mode(y)\n",
    "print(f'mode is: { area_mode}')"
   ]
  },
  {
   "cell_type": "code",
   "execution_count": 3842,
   "id": "5005bc8d",
   "metadata": {},
   "outputs": [
    {
     "name": "stdout",
     "output_type": "stream",
     "text": [
      "          price  price per m    area  \\\n",
      "160    820000.0         7885  104.00   \n",
      "312    499000.0         5781   86.31   \n",
      "314    539000.0         6245   86.31   \n",
      "349    829000.0         8635   96.00   \n",
      "418   1600000.0        10256  156.00   \n",
      "438    485250.0         3408  142.40   \n",
      "820    899000.0         7399  121.50   \n",
      "856    390000.0         2422  161.00   \n",
      "857    546000.0         5935   92.00   \n",
      "858   1200000.0         6417  187.00   \n",
      "1063   800000.0         2326  344.00   \n",
      "1065   545000.0         2096  260.00   \n",
      "1154   260000.0         3250   80.00   \n",
      "1210   949000.0         5931  160.00   \n",
      "1344   628000.0         4945  127.00   \n",
      "1345   628000.0         4945  127.00   \n",
      "1346   628000.0         4945  127.00   \n",
      "1347   520000.0         5474   95.00   \n",
      "1348   520000.0         5474   95.00   \n",
      "1349   628000.0         4945  127.00   \n",
      "1386  1275000.0         5135  248.30   \n",
      "1431   475000.0         5502   86.33   \n",
      "1673   930000.0         5345  174.00   \n",
      "1727   485250.0         3408  142.40   \n",
      "1767   377000.0         6016   62.67   \n",
      "1861   377000.0         6016   62.67   \n",
      "1862   367000.0         5856   62.67   \n",
      "2072   599000.0         5651  106.00   \n",
      "2135   799000.0         4662  171.40   \n",
      "2301   399000.0         1814  220.00   \n",
      "\n",
      "                                              location  \n",
      "160                          Pobiedziska wielkopolskie  \n",
      "312            ul. Słoneczna Pobiedziska wielkopolskie  \n",
      "314            ul. Słoneczna Pobiedziska wielkopolskie  \n",
      "349                          Pobiedziska wielkopolskie  \n",
      "418                          Pobiedziska wielkopolskie  \n",
      "438   ul. por. Sypniewskiego Pobiedziska wielkopolskie  \n",
      "820                Pobiedziska poznański wielkopolskie  \n",
      "856                          Pobiedziska wielkopolskie  \n",
      "857                  Rzeczna Pobiedziska wielkopolskie  \n",
      "858               Łagiewniki Pobiedziska wielkopolskie  \n",
      "1063                         Pobiedziska wielkopolskie  \n",
      "1065     Spadzista Pobiedziska poznański wielkopolskie  \n",
      "1154                         Pobiedziska wielkopolskie  \n",
      "1210                 Bednary Pobiedziska wielkopolskie  \n",
      "1344                 Sielska Pobiedziska wielkopolskie  \n",
      "1345                 Sielska Pobiedziska wielkopolskie  \n",
      "1346                 Sielska Pobiedziska wielkopolskie  \n",
      "1347                 Sielska Pobiedziska wielkopolskie  \n",
      "1348                 Sielska Pobiedziska wielkopolskie  \n",
      "1349                 Sielska Pobiedziska wielkopolskie  \n",
      "1386                         Pobiedziska wielkopolskie  \n",
      "1431                         Pobiedziska wielkopolskie  \n",
      "1673                         Pobiedziska wielkopolskie  \n",
      "1727  ul. por. Sypniewskiego Pobiedziska wielkopolskie  \n",
      "1767                         Pobiedziska wielkopolskie  \n",
      "1861                         Pobiedziska wielkopolskie  \n",
      "1862                         Pobiedziska wielkopolskie  \n",
      "2072                         Pobiedziska wielkopolskie  \n",
      "2135                         Pobiedziska wielkopolskie  \n",
      "2301                         Pobiedziska wielkopolskie  \n"
     ]
    }
   ],
   "source": [
    "f = df2.loc[df2['location'].str.contains(\"pobiedziska\", case=False)]\n",
    "print(f)   "
   ]
  },
  {
   "cell_type": "code",
   "execution_count": 3844,
   "id": "1a59427f",
   "metadata": {},
   "outputs": [
    {
     "name": "stdout",
     "output_type": "stream",
     "text": [
      "          price  price per m    area  \\\n",
      "160    820000.0         7885  104.00   \n",
      "312    499000.0         5781   86.31   \n",
      "314    539000.0         6245   86.31   \n",
      "349    829000.0         8635   96.00   \n",
      "418   1600000.0        10256  156.00   \n",
      "438    485250.0         3408  142.40   \n",
      "820    899000.0         7399  121.50   \n",
      "856    390000.0         2422  161.00   \n",
      "857    546000.0         5935   92.00   \n",
      "858   1200000.0         6417  187.00   \n",
      "1063   800000.0         2326  344.00   \n",
      "1065   545000.0         2096  260.00   \n",
      "1154   260000.0         3250   80.00   \n",
      "1210   949000.0         5931  160.00   \n",
      "1344   628000.0         4945  127.00   \n",
      "1345   628000.0         4945  127.00   \n",
      "1346   628000.0         4945  127.00   \n",
      "1347   520000.0         5474   95.00   \n",
      "1348   520000.0         5474   95.00   \n",
      "1349   628000.0         4945  127.00   \n",
      "1386  1275000.0         5135  248.30   \n",
      "1431   475000.0         5502   86.33   \n",
      "1673   930000.0         5345  174.00   \n",
      "1727   485250.0         3408  142.40   \n",
      "1767   377000.0         6016   62.67   \n",
      "1861   377000.0         6016   62.67   \n",
      "1862   367000.0         5856   62.67   \n",
      "2072   599000.0         5651  106.00   \n",
      "2135   799000.0         4662  171.40   \n",
      "2301   399000.0         1814  220.00   \n",
      "\n",
      "                                              location  \n",
      "160                          Pobiedziska wielkopolskie  \n",
      "312            ul. Słoneczna Pobiedziska wielkopolskie  \n",
      "314            ul. Słoneczna Pobiedziska wielkopolskie  \n",
      "349                          Pobiedziska wielkopolskie  \n",
      "418                          Pobiedziska wielkopolskie  \n",
      "438   ul. por. Sypniewskiego Pobiedziska wielkopolskie  \n",
      "820                Pobiedziska poznański wielkopolskie  \n",
      "856                          Pobiedziska wielkopolskie  \n",
      "857                  Rzeczna Pobiedziska wielkopolskie  \n",
      "858               Łagiewniki Pobiedziska wielkopolskie  \n",
      "1063                         Pobiedziska wielkopolskie  \n",
      "1065     Spadzista Pobiedziska poznański wielkopolskie  \n",
      "1154                         Pobiedziska wielkopolskie  \n",
      "1210                 Bednary Pobiedziska wielkopolskie  \n",
      "1344                 Sielska Pobiedziska wielkopolskie  \n",
      "1345                 Sielska Pobiedziska wielkopolskie  \n",
      "1346                 Sielska Pobiedziska wielkopolskie  \n",
      "1347                 Sielska Pobiedziska wielkopolskie  \n",
      "1348                 Sielska Pobiedziska wielkopolskie  \n",
      "1349                 Sielska Pobiedziska wielkopolskie  \n",
      "1386                         Pobiedziska wielkopolskie  \n",
      "1431                         Pobiedziska wielkopolskie  \n",
      "1673                         Pobiedziska wielkopolskie  \n",
      "1727  ul. por. Sypniewskiego Pobiedziska wielkopolskie  \n",
      "1767                         Pobiedziska wielkopolskie  \n",
      "1861                         Pobiedziska wielkopolskie  \n",
      "1862                         Pobiedziska wielkopolskie  \n",
      "2072                         Pobiedziska wielkopolskie  \n",
      "2135                         Pobiedziska wielkopolskie  \n",
      "2301                         Pobiedziska wielkopolskie  \n",
      "160     104.00\n",
      "312      86.31\n",
      "314      86.31\n",
      "349      96.00\n",
      "418     156.00\n",
      "438     142.40\n",
      "820     121.50\n",
      "856     161.00\n",
      "857      92.00\n",
      "858     187.00\n",
      "1063    344.00\n",
      "1065    260.00\n",
      "1154     80.00\n",
      "1210    160.00\n",
      "1344    127.00\n",
      "1345    127.00\n",
      "1346    127.00\n",
      "1347     95.00\n",
      "1348     95.00\n",
      "1349    127.00\n",
      "1386    248.30\n",
      "1431     86.33\n",
      "1673    174.00\n",
      "1727    142.40\n",
      "1767     62.67\n",
      "1861     62.67\n",
      "1862     62.67\n",
      "2072    106.00\n",
      "2135    171.40\n",
      "2301    220.00\n",
      "Name: area, dtype: float64\n",
      "160      820000.0\n",
      "312      499000.0\n",
      "314      539000.0\n",
      "349      829000.0\n",
      "418     1600000.0\n",
      "438      485250.0\n",
      "820      899000.0\n",
      "856      390000.0\n",
      "857      546000.0\n",
      "858     1200000.0\n",
      "1063     800000.0\n",
      "1065     545000.0\n",
      "1154     260000.0\n",
      "1210     949000.0\n",
      "1344     628000.0\n",
      "1345     628000.0\n",
      "1346     628000.0\n",
      "1347     520000.0\n",
      "1348     520000.0\n",
      "1349     628000.0\n",
      "1386    1275000.0\n",
      "1431     475000.0\n",
      "1673     930000.0\n",
      "1727     485250.0\n",
      "1767     377000.0\n",
      "1861     377000.0\n",
      "1862     367000.0\n",
      "2072     599000.0\n",
      "2135     799000.0\n",
      "2301     399000.0\n",
      "Name: price, dtype: float64\n"
     ]
    }
   ],
   "source": [
    "#filter for location\n",
    "f = df2.loc[df2['location'].str.contains(\"pobiedziska\", case=False)]\n",
    "print(f)        \n",
    "\n",
    "y_location = f['area']\n",
    "print(y_location)\n",
    "\n",
    "x_location = f['price']\n",
    "print(x_location)\n",
    "\n"
   ]
  },
  {
   "cell_type": "code",
   "execution_count": null,
   "id": "d1e29ec5",
   "metadata": {},
   "outputs": [],
   "source": [
    "f.shape"
   ]
  },
  {
   "cell_type": "code",
   "execution_count": 3845,
   "id": "4eed19fd",
   "metadata": {},
   "outputs": [
    {
     "name": "stdout",
     "output_type": "stream",
     "text": [
      "160     104.00\n",
      "312      86.31\n",
      "314      86.31\n",
      "349      96.00\n",
      "418     156.00\n",
      "438     142.40\n",
      "820     121.50\n",
      "856     161.00\n",
      "857      92.00\n",
      "858     187.00\n",
      "1063    344.00\n",
      "1065    260.00\n",
      "1154     80.00\n",
      "1210    160.00\n",
      "1344    127.00\n",
      "1345    127.00\n",
      "1346    127.00\n",
      "1347     95.00\n",
      "1348     95.00\n",
      "1349    127.00\n",
      "1386    248.30\n",
      "1431     86.33\n",
      "1673    174.00\n",
      "1727    142.40\n",
      "1767     62.67\n",
      "1861     62.67\n",
      "1862     62.67\n",
      "2072    106.00\n",
      "2135    171.40\n",
      "2301    220.00\n",
      "Name: area, dtype: float64\n"
     ]
    }
   ],
   "source": [
    "#filter for df3\n",
    "y_location = f['area']\n",
    "print(y_location)"
   ]
  },
  {
   "cell_type": "code",
   "execution_count": 3846,
   "id": "438aa9b3",
   "metadata": {},
   "outputs": [
    {
     "name": "stdout",
     "output_type": "stream",
     "text": [
      "160      820000.0\n",
      "312      499000.0\n",
      "314      539000.0\n",
      "349      829000.0\n",
      "418     1600000.0\n",
      "438      485250.0\n",
      "820      899000.0\n",
      "856      390000.0\n",
      "857      546000.0\n",
      "858     1200000.0\n",
      "1063     800000.0\n",
      "1065     545000.0\n",
      "1154     260000.0\n",
      "1210     949000.0\n",
      "1344     628000.0\n",
      "1345     628000.0\n",
      "1346     628000.0\n",
      "1347     520000.0\n",
      "1348     520000.0\n",
      "1349     628000.0\n",
      "1386    1275000.0\n",
      "1431     475000.0\n",
      "1673     930000.0\n",
      "1727     485250.0\n",
      "1767     377000.0\n",
      "1861     377000.0\n",
      "1862     367000.0\n",
      "2072     599000.0\n",
      "2135     799000.0\n",
      "2301     399000.0\n",
      "Name: price, dtype: float64\n"
     ]
    }
   ],
   "source": [
    "#filter for df3\n",
    "x_location = f['price']\n",
    "print(x_location)"
   ]
  },
  {
   "cell_type": "code",
   "execution_count": 3847,
   "id": "f2b2029f",
   "metadata": {},
   "outputs": [
    {
     "name": "stderr",
     "output_type": "stream",
     "text": [
      "C:\\Users\\bekon\\anaconda3\\envs\\jnenv\\lib\\site-packages\\sklearn\\base.py:443: UserWarning: X has feature names, but LinearRegression was fitted without feature names\n",
      "  warnings.warn(\n"
     ]
    },
    {
     "data": {
      "text/plain": [
       "<matplotlib.legend.Legend at 0x1781dce31f0>"
      ]
     },
     "execution_count": 3847,
     "metadata": {},
     "output_type": "execute_result"
    },
    {
     "data": {
      "image/png": "[encoded data removed]",
      "text/plain": [
       "<Figure size 864x504 with 1 Axes>"
      ]
     },
     "metadata": {
      "needs_background": "light"
     },
     "output_type": "display_data"
    }
   ],
   "source": [
    "%matplotlib inline\n",
    "plt.figure(figsize=(12, 7))\n",
    "plt.xlabel('price(PLN)')\n",
    "plt.ylabel('area(m^2)')\n",
    "\n",
    "plt.scatter(df4.price, df4.area, color='red', marker=\"+\", label=\"all prices\")\n",
    "plt.scatter(f.price,f.area, color='blue', marker=\"o\", label=\"prices in Pobiedziska\")\n",
    "plt.plot(df4.price, regr.predict(df4[['price']]), color='green' , label=\"regresion with alll prices\")\n",
    "\n",
    "plt.ticklabel_format(style='plain', useOffset=False, axis='y') \n",
    "plt.ticklabel_format(style='plain', useOffset=False, axis='x')\n",
    "plt.legend()"
   ]
  },
  {
   "cell_type": "code",
   "execution_count": 3848,
   "id": "a2bdc9fb",
   "metadata": {},
   "outputs": [
    {
     "data": {
      "text/plain": [
       "<matplotlib.legend.Legend at 0x1781def4370>"
      ]
     },
     "execution_count": 3848,
     "metadata": {},
     "output_type": "execute_result"
    },
    {
     "data": {
      "image/png": "[encoded data removed]",
      "text/plain": [
       "<Figure size 864x504 with 1 Axes>"
      ]
     },
     "metadata": {
      "needs_background": "light"
     },
     "output_type": "display_data"
    }
   ],
   "source": [
    "%matplotlib inline\n",
    "plt.figure(figsize=(12, 7))\n",
    "plt.xlabel('price(PLN)')\n",
    "plt.ylabel('area(m^2)')\n",
    "x = np.arange(0, 1000000, 2)\n",
    "\n",
    "#plt.scatter(df3.price, df3.area, color='red', marker=\"+\", label=\"all prices\")\n",
    "plt.scatter(f.price,f.area, color='blue', marker=\"o\", label=\"prices in Pobiedziska\")\n",
    "#plt.plot(df3.price, regr.predict(df3[['price']]), color='green' , label=\"regresion with alll prices\")\n",
    "\n",
    "plt.ticklabel_format(style='plain', useOffset=False, axis='y') \n",
    "plt.ticklabel_format(style='plain', useOffset=False, axis='x')\n",
    "plt.legend()"
   ]
  },
  {
   "cell_type": "code",
   "execution_count": 3849,
   "id": "28e8877c",
   "metadata": {},
   "outputs": [
    {
     "name": "stdout",
     "output_type": "stream",
     "text": [
      "area mean for Pobiedziska is: 666550\n",
      "standard devietion for Pobiedziska is: 295235\n",
      "area median for Pobiedziska is: 572500\n",
      "mode for Pobiedziska is: ModeResult(mode=array([628000.]), count=array([4]))\n"
     ]
    }
   ],
   "source": [
    "#Price statistical data for Pobiedziska\n",
    "area_mean = np.mean(x_location)\n",
    "print(f'area mean for Pobiedziska is: {\"%.0f\" % area_mean}')\n",
    "\n",
    "area_std = np.std(x_location)\n",
    "print(f'standard devietion for Pobiedziska is: {\"%.0f\" %  area_std}')\n",
    "\n",
    "area_median = np.median(x_location)\n",
    "print(f'area median for Pobiedziska is: {\"%.0f\"% area_median}')\n",
    "\n",
    "area_mode = stats.mode(x_location)\n",
    "print(f'mode for Pobiedziska is: { area_mode}')"
   ]
  },
  {
   "cell_type": "code",
   "execution_count": 3850,
   "id": "880910f8",
   "metadata": {},
   "outputs": [
    {
     "name": "stdout",
     "output_type": "stream",
     "text": [
      "area mean for Pobiedziska is: 137\n",
      "standard devietion for Pobiedziska is: 64\n",
      "area median for Pobiedziska is: 127\n",
      "mode for Pobiedziska is: ModeResult(mode=array([127.]), count=array([4]))\n"
     ]
    }
   ],
   "source": [
    "#Price statistical data for Pobiedziska\n",
    "area_mean = np.mean(y_location)\n",
    "print(f'area mean for Pobiedziska is: {\"%.0f\" % area_mean}')\n",
    "\n",
    "area_std = np.std(y_location)\n",
    "print(f'standard devietion for Pobiedziska is: {\"%.0f\" %  area_std}')\n",
    "\n",
    "area_median = np.median(y_location)\n",
    "print(f'area median for Pobiedziska is: {\"%.0f\"% area_median}')\n",
    "\n",
    "area_mode = stats.mode(y_location)\n",
    "print(f'mode for Pobiedziska is: { area_mode}')"
   ]
  },
  {
   "cell_type": "code",
   "execution_count": 3851,
   "id": "35ae2279",
   "metadata": {},
   "outputs": [
    {
     "name": "stdout",
     "output_type": "stream",
     "text": [
      "<bound method IndexOpsMixin.value_counts of 160      820000.0\n",
      "312      499000.0\n",
      "314      539000.0\n",
      "349      829000.0\n",
      "418     1600000.0\n",
      "438      485250.0\n",
      "820      899000.0\n",
      "856      390000.0\n",
      "857      546000.0\n",
      "858     1200000.0\n",
      "1063     800000.0\n",
      "1065     545000.0\n",
      "1154     260000.0\n",
      "1210     949000.0\n",
      "1344     628000.0\n",
      "1345     628000.0\n",
      "1346     628000.0\n",
      "1347     520000.0\n",
      "1348     520000.0\n",
      "1349     628000.0\n",
      "1386    1275000.0\n",
      "1431     475000.0\n",
      "1673     930000.0\n",
      "1727     485250.0\n",
      "1767     377000.0\n",
      "1861     377000.0\n",
      "1862     367000.0\n",
      "2072     599000.0\n",
      "2135     799000.0\n",
      "2301     399000.0\n",
      "Name: price, dtype: float64>\n"
     ]
    }
   ],
   "source": [
    "z= x_location.value_counts\n",
    "print(z)"
   ]
  },
  {
   "cell_type": "code",
   "execution_count": 3852,
   "id": "aae5c7b1",
   "metadata": {},
   "outputs": [
    {
     "data": {
      "text/html": [
       "<div>\n",
       "<style scoped>\n",
       "    .dataframe tbody tr th:only-of-type {\n",
       "        vertical-align: middle;\n",
       "    }\n",
       "\n",
       "    .dataframe tbody tr th {\n",
       "        vertical-align: top;\n",
       "    }\n",
       "\n",
       "    .dataframe thead th {\n",
       "        text-align: right;\n",
       "    }\n",
       "</style>\n",
       "<table border=\"1\" class=\"dataframe\">\n",
       "  <thead>\n",
       "    <tr style=\"text-align: right;\">\n",
       "      <th></th>\n",
       "      <th>price</th>\n",
       "      <th>price per m</th>\n",
       "      <th>area</th>\n",
       "      <th>location</th>\n",
       "    </tr>\n",
       "  </thead>\n",
       "  <tbody>\n",
       "    <tr>\n",
       "      <th>160</th>\n",
       "      <td>820000.0</td>\n",
       "      <td>7885</td>\n",
       "      <td>104.00</td>\n",
       "      <td>Pobiedziska wielkopolskie</td>\n",
       "    </tr>\n",
       "    <tr>\n",
       "      <th>312</th>\n",
       "      <td>499000.0</td>\n",
       "      <td>5781</td>\n",
       "      <td>86.31</td>\n",
       "      <td>ul. Słoneczna Pobiedziska wielkopolskie</td>\n",
       "    </tr>\n",
       "    <tr>\n",
       "      <th>314</th>\n",
       "      <td>539000.0</td>\n",
       "      <td>6245</td>\n",
       "      <td>86.31</td>\n",
       "      <td>ul. Słoneczna Pobiedziska wielkopolskie</td>\n",
       "    </tr>\n",
       "    <tr>\n",
       "      <th>349</th>\n",
       "      <td>829000.0</td>\n",
       "      <td>8635</td>\n",
       "      <td>96.00</td>\n",
       "      <td>Pobiedziska wielkopolskie</td>\n",
       "    </tr>\n",
       "    <tr>\n",
       "      <th>418</th>\n",
       "      <td>1600000.0</td>\n",
       "      <td>10256</td>\n",
       "      <td>156.00</td>\n",
       "      <td>Pobiedziska wielkopolskie</td>\n",
       "    </tr>\n",
       "    <tr>\n",
       "      <th>438</th>\n",
       "      <td>485250.0</td>\n",
       "      <td>3408</td>\n",
       "      <td>142.40</td>\n",
       "      <td>ul. por. Sypniewskiego Pobiedziska wielkopolskie</td>\n",
       "    </tr>\n",
       "    <tr>\n",
       "      <th>820</th>\n",
       "      <td>899000.0</td>\n",
       "      <td>7399</td>\n",
       "      <td>121.50</td>\n",
       "      <td>Pobiedziska poznański wielkopolskie</td>\n",
       "    </tr>\n",
       "    <tr>\n",
       "      <th>856</th>\n",
       "      <td>390000.0</td>\n",
       "      <td>2422</td>\n",
       "      <td>161.00</td>\n",
       "      <td>Pobiedziska wielkopolskie</td>\n",
       "    </tr>\n",
       "    <tr>\n",
       "      <th>857</th>\n",
       "      <td>546000.0</td>\n",
       "      <td>5935</td>\n",
       "      <td>92.00</td>\n",
       "      <td>Rzeczna Pobiedziska wielkopolskie</td>\n",
       "    </tr>\n",
       "    <tr>\n",
       "      <th>858</th>\n",
       "      <td>1200000.0</td>\n",
       "      <td>6417</td>\n",
       "      <td>187.00</td>\n",
       "      <td>Łagiewniki Pobiedziska wielkopolskie</td>\n",
       "    </tr>\n",
       "    <tr>\n",
       "      <th>1063</th>\n",
       "      <td>800000.0</td>\n",
       "      <td>2326</td>\n",
       "      <td>344.00</td>\n",
       "      <td>Pobiedziska wielkopolskie</td>\n",
       "    </tr>\n",
       "    <tr>\n",
       "      <th>1065</th>\n",
       "      <td>545000.0</td>\n",
       "      <td>2096</td>\n",
       "      <td>260.00</td>\n",
       "      <td>Spadzista Pobiedziska poznański wielkopolskie</td>\n",
       "    </tr>\n",
       "    <tr>\n",
       "      <th>1154</th>\n",
       "      <td>260000.0</td>\n",
       "      <td>3250</td>\n",
       "      <td>80.00</td>\n",
       "      <td>Pobiedziska wielkopolskie</td>\n",
       "    </tr>\n",
       "    <tr>\n",
       "      <th>1210</th>\n",
       "      <td>949000.0</td>\n",
       "      <td>5931</td>\n",
       "      <td>160.00</td>\n",
       "      <td>Bednary Pobiedziska wielkopolskie</td>\n",
       "    </tr>\n",
       "    <tr>\n",
       "      <th>1344</th>\n",
       "      <td>628000.0</td>\n",
       "      <td>4945</td>\n",
       "      <td>127.00</td>\n",
       "      <td>Sielska Pobiedziska wielkopolskie</td>\n",
       "    </tr>\n",
       "    <tr>\n",
       "      <th>1345</th>\n",
       "      <td>628000.0</td>\n",
       "      <td>4945</td>\n",
       "      <td>127.00</td>\n",
       "      <td>Sielska Pobiedziska wielkopolskie</td>\n",
       "    </tr>\n",
       "    <tr>\n",
       "      <th>1346</th>\n",
       "      <td>628000.0</td>\n",
       "      <td>4945</td>\n",
       "      <td>127.00</td>\n",
       "      <td>Sielska Pobiedziska wielkopolskie</td>\n",
       "    </tr>\n",
       "    <tr>\n",
       "      <th>1347</th>\n",
       "      <td>520000.0</td>\n",
       "      <td>5474</td>\n",
       "      <td>95.00</td>\n",
       "      <td>Sielska Pobiedziska wielkopolskie</td>\n",
       "    </tr>\n",
       "    <tr>\n",
       "      <th>1348</th>\n",
       "      <td>520000.0</td>\n",
       "      <td>5474</td>\n",
       "      <td>95.00</td>\n",
       "      <td>Sielska Pobiedziska wielkopolskie</td>\n",
       "    </tr>\n",
       "    <tr>\n",
       "      <th>1349</th>\n",
       "      <td>628000.0</td>\n",
       "      <td>4945</td>\n",
       "      <td>127.00</td>\n",
       "      <td>Sielska Pobiedziska wielkopolskie</td>\n",
       "    </tr>\n",
       "    <tr>\n",
       "      <th>1386</th>\n",
       "      <td>1275000.0</td>\n",
       "      <td>5135</td>\n",
       "      <td>248.30</td>\n",
       "      <td>Pobiedziska wielkopolskie</td>\n",
       "    </tr>\n",
       "    <tr>\n",
       "      <th>1431</th>\n",
       "      <td>475000.0</td>\n",
       "      <td>5502</td>\n",
       "      <td>86.33</td>\n",
       "      <td>Pobiedziska wielkopolskie</td>\n",
       "    </tr>\n",
       "    <tr>\n",
       "      <th>1673</th>\n",
       "      <td>930000.0</td>\n",
       "      <td>5345</td>\n",
       "      <td>174.00</td>\n",
       "      <td>Pobiedziska wielkopolskie</td>\n",
       "    </tr>\n",
       "    <tr>\n",
       "      <th>1727</th>\n",
       "      <td>485250.0</td>\n",
       "      <td>3408</td>\n",
       "      <td>142.40</td>\n",
       "      <td>ul. por. Sypniewskiego Pobiedziska wielkopolskie</td>\n",
       "    </tr>\n",
       "    <tr>\n",
       "      <th>1767</th>\n",
       "      <td>377000.0</td>\n",
       "      <td>6016</td>\n",
       "      <td>62.67</td>\n",
       "      <td>Pobiedziska wielkopolskie</td>\n",
       "    </tr>\n",
       "    <tr>\n",
       "      <th>1861</th>\n",
       "      <td>377000.0</td>\n",
       "      <td>6016</td>\n",
       "      <td>62.67</td>\n",
       "      <td>Pobiedziska wielkopolskie</td>\n",
       "    </tr>\n",
       "    <tr>\n",
       "      <th>1862</th>\n",
       "      <td>367000.0</td>\n",
       "      <td>5856</td>\n",
       "      <td>62.67</td>\n",
       "      <td>Pobiedziska wielkopolskie</td>\n",
       "    </tr>\n",
       "    <tr>\n",
       "      <th>2072</th>\n",
       "      <td>599000.0</td>\n",
       "      <td>5651</td>\n",
       "      <td>106.00</td>\n",
       "      <td>Pobiedziska wielkopolskie</td>\n",
       "    </tr>\n",
       "    <tr>\n",
       "      <th>2135</th>\n",
       "      <td>799000.0</td>\n",
       "      <td>4662</td>\n",
       "      <td>171.40</td>\n",
       "      <td>Pobiedziska wielkopolskie</td>\n",
       "    </tr>\n",
       "    <tr>\n",
       "      <th>2301</th>\n",
       "      <td>399000.0</td>\n",
       "      <td>1814</td>\n",
       "      <td>220.00</td>\n",
       "      <td>Pobiedziska wielkopolskie</td>\n",
       "    </tr>\n",
       "  </tbody>\n",
       "</table>\n",
       "</div>"
      ],
      "text/plain": [
       "          price  price per m    area  \\\n",
       "160    820000.0         7885  104.00   \n",
       "312    499000.0         5781   86.31   \n",
       "314    539000.0         6245   86.31   \n",
       "349    829000.0         8635   96.00   \n",
       "418   1600000.0        10256  156.00   \n",
       "438    485250.0         3408  142.40   \n",
       "820    899000.0         7399  121.50   \n",
       "856    390000.0         2422  161.00   \n",
       "857    546000.0         5935   92.00   \n",
       "858   1200000.0         6417  187.00   \n",
       "1063   800000.0         2326  344.00   \n",
       "1065   545000.0         2096  260.00   \n",
       "1154   260000.0         3250   80.00   \n",
       "1210   949000.0         5931  160.00   \n",
       "1344   628000.0         4945  127.00   \n",
       "1345   628000.0         4945  127.00   \n",
       "1346   628000.0         4945  127.00   \n",
       "1347   520000.0         5474   95.00   \n",
       "1348   520000.0         5474   95.00   \n",
       "1349   628000.0         4945  127.00   \n",
       "1386  1275000.0         5135  248.30   \n",
       "1431   475000.0         5502   86.33   \n",
       "1673   930000.0         5345  174.00   \n",
       "1727   485250.0         3408  142.40   \n",
       "1767   377000.0         6016   62.67   \n",
       "1861   377000.0         6016   62.67   \n",
       "1862   367000.0         5856   62.67   \n",
       "2072   599000.0         5651  106.00   \n",
       "2135   799000.0         4662  171.40   \n",
       "2301   399000.0         1814  220.00   \n",
       "\n",
       "                                              location  \n",
       "160                          Pobiedziska wielkopolskie  \n",
       "312            ul. Słoneczna Pobiedziska wielkopolskie  \n",
       "314            ul. Słoneczna Pobiedziska wielkopolskie  \n",
       "349                          Pobiedziska wielkopolskie  \n",
       "418                          Pobiedziska wielkopolskie  \n",
       "438   ul. por. Sypniewskiego Pobiedziska wielkopolskie  \n",
       "820                Pobiedziska poznański wielkopolskie  \n",
       "856                          Pobiedziska wielkopolskie  \n",
       "857                  Rzeczna Pobiedziska wielkopolskie  \n",
       "858               Łagiewniki Pobiedziska wielkopolskie  \n",
       "1063                         Pobiedziska wielkopolskie  \n",
       "1065     Spadzista Pobiedziska poznański wielkopolskie  \n",
       "1154                         Pobiedziska wielkopolskie  \n",
       "1210                 Bednary Pobiedziska wielkopolskie  \n",
       "1344                 Sielska Pobiedziska wielkopolskie  \n",
       "1345                 Sielska Pobiedziska wielkopolskie  \n",
       "1346                 Sielska Pobiedziska wielkopolskie  \n",
       "1347                 Sielska Pobiedziska wielkopolskie  \n",
       "1348                 Sielska Pobiedziska wielkopolskie  \n",
       "1349                 Sielska Pobiedziska wielkopolskie  \n",
       "1386                         Pobiedziska wielkopolskie  \n",
       "1431                         Pobiedziska wielkopolskie  \n",
       "1673                         Pobiedziska wielkopolskie  \n",
       "1727  ul. por. Sypniewskiego Pobiedziska wielkopolskie  \n",
       "1767                         Pobiedziska wielkopolskie  \n",
       "1861                         Pobiedziska wielkopolskie  \n",
       "1862                         Pobiedziska wielkopolskie  \n",
       "2072                         Pobiedziska wielkopolskie  \n",
       "2135                         Pobiedziska wielkopolskie  \n",
       "2301                         Pobiedziska wielkopolskie  "
      ]
     },
     "execution_count": 3852,
     "metadata": {},
     "output_type": "execute_result"
    }
   ],
   "source": [
    "df5 = f\n",
    "df5\n"
   ]
  },
  {
   "cell_type": "code",
   "execution_count": 3853,
   "id": "4ef767f6",
   "metadata": {},
   "outputs": [
    {
     "name": "stdout",
     "output_type": "stream",
     "text": [
      "[     0      2      4 ... 999994 999996 999998]\n",
      "[[ 170. ]\n",
      " [ 472. ]\n",
      " [  52.2]\n",
      " ...\n",
      " [1220. ]\n",
      " [ 108. ]\n",
      " [ 100. ]]\n"
     ]
    }
   ],
   "source": [
    "x_pobiedziska = pd.DataFrame(df4['price']).values\n",
    "y_pobiedziska = pd.DataFrame(df4['area']).values\n",
    "\n",
    "x_train_pobiedziska = x_pobiedziska[:-5]\n",
    "x_test_pobiedziska = x_pobiedziska[-5:]\n",
    "\n",
    "y_train_pobiedziska = y_pobiedziska[:-5]\n",
    "y_test_pobiedziska = y_pobiedziska[-5:]\n",
    "\n",
    "print(x)\n",
    "print(y)"
   ]
  },
  {
   "cell_type": "code",
   "execution_count": 3854,
   "id": "3400b56b",
   "metadata": {},
   "outputs": [],
   "source": [
    "# Create linear regression object\n",
    "regr_pobiedziska = linear_model.LinearRegression()\n",
    "\n",
    "# Train the model using the training sets\n",
    "regr_pobiedziska.fit(x_train_pobiedziska, y_train_pobiedziska)\n",
    "\n",
    "# Make predictions using the testing set\n",
    "y_pred_pobiedziska = regr_pobiedziska.predict(x_test_pobiedziska)"
   ]
  },
  {
   "cell_type": "code",
   "execution_count": 3855,
   "id": "f48f31ff",
   "metadata": {},
   "outputs": [
    {
     "name": "stdout",
     "output_type": "stream",
     "text": [
      "Coefficients: \n",
      " [[0.00011108]]\n",
      "Mean squared error: 88915.63\n",
      "Coefficient of determination: 0.50\n"
     ]
    }
   ],
   "source": [
    "# The coefficients\n",
    "print(\"Coefficients: \\n\", regr_pobiedziska.coef_)\n",
    "# The mean squared error\n",
    "print(\"Mean squared error: %.2f\" % mean_squared_error(y_test_pobiedziska, y_pred_pobiedziska))\n",
    "# The coefficient of determination: 1 is perfect prediction\n",
    "print(\"Coefficient of determination: %.2f\" % r2_score(y_test_pobiedziska, y_pred_pobiedziska))"
   ]
  },
  {
   "cell_type": "code",
   "execution_count": 3856,
   "id": "2b9e7c10",
   "metadata": {},
   "outputs": [
    {
     "name": "stderr",
     "output_type": "stream",
     "text": [
      "C:\\Users\\bekon\\anaconda3\\envs\\jnenv\\lib\\site-packages\\sklearn\\base.py:443: UserWarning: X has feature names, but LinearRegression was fitted without feature names\n",
      "  warnings.warn(\n"
     ]
    },
    {
     "data": {
      "text/plain": [
       "<matplotlib.legend.Legend at 0x1781de76e80>"
      ]
     },
     "execution_count": 3856,
     "metadata": {},
     "output_type": "execute_result"
    },
    {
     "data": {
      "image/png": "[encoded data removed]",
      "text/plain": [
       "<Figure size 864x504 with 1 Axes>"
      ]
     },
     "metadata": {
      "needs_background": "light"
     },
     "output_type": "display_data"
    }
   ],
   "source": [
    "%matplotlib inline\n",
    "plt.figure(figsize=(12, 7))\n",
    "plt.xlabel('price_all(PLN)')\n",
    "plt.ylabel('area_all(m^2)')\n",
    "\n",
    "plt.scatter(f.price, f.area, color='red', marker=\"o\", label=\"all prices\")\n",
    "plt.scatter(df4.price,df4.area, color='blue', marker=\"+\", label=\"prices in Pobiedziska\")\n",
    "#plt.plot(df3.price, regr.predict(df3[['price']]), color='green' , label=\"regresion with alll prices\")\n",
    "plt.plot(f.price, regr_pobiedziska.predict(f[['price']]), color='blue' , label=\"regresion Pobiedziska\")\n",
    "\n",
    "plt.ticklabel_format(style='plain', useOffset=False, axis='y') \n",
    "plt.ticklabel_format(style='plain', useOffset=False, axis='x')\n",
    "plt.legend()"
   ]
  },
  {
   "cell_type": "code",
   "execution_count": 1,
   "id": "4f354966",
   "metadata": {},
   "outputs": [
    {
     "ename": "NameError",
     "evalue": "name 'linear_model' is not defined",
     "output_type": "error",
     "traceback": [
      "\u001b[1;31m---------------------------------------------------------------------------\u001b[0m",
      "\u001b[1;31mNameError\u001b[0m                                 Traceback (most recent call last)",
      "Input \u001b[1;32mIn [1]\u001b[0m, in \u001b[0;36m<cell line: 1>\u001b[1;34m()\u001b[0m\n\u001b[1;32m----> 1\u001b[0m reg_p \u001b[38;5;241m=\u001b[39m \u001b[43mlinear_model\u001b[49m\u001b[38;5;241m.\u001b[39mLinearRegression()\u001b[38;5;241m.\u001b[39mfit(x_pobiedziska, y_pobiedziska)\n",
      "\u001b[1;31mNameError\u001b[0m: name 'linear_model' is not defined"
     ]
    }
   ],
   "source": [
    "reg_p = linear_model.LinearRegression().fit(x_pobiedziska, y_pobiedziska)\n"
   ]
  },
  {
   "cell_type": "code",
   "execution_count": 3858,
   "id": "8e493c7a",
   "metadata": {},
   "outputs": [
    {
     "name": "stdout",
     "output_type": "stream",
     "text": [
      "0.6438334354358426\n"
     ]
    }
   ],
   "source": [
    "r_sq = reg_p.score(x_pobiedziska, y_pobiedziska)\n",
    "print(r_sq)"
   ]
  },
  {
   "cell_type": "code",
   "execution_count": 3859,
   "id": "396f9114",
   "metadata": {},
   "outputs": [
    {
     "name": "stdout",
     "output_type": "stream",
     "text": [
      "[45.44371795]\n"
     ]
    }
   ],
   "source": [
    "print(reg_p.intercept_)"
   ]
  },
  {
   "cell_type": "code",
   "execution_count": 3860,
   "id": "548a2f8d",
   "metadata": {},
   "outputs": [
    {
     "name": "stderr",
     "output_type": "stream",
     "text": [
      "C:\\Users\\bekon\\anaconda3\\envs\\jnenv\\lib\\site-packages\\IPython\\core\\displayhook.py:275: UserWarning: Output cache limit (currently 1000 entries) hit.\n",
      "Flushing oldest 200 entries.\n",
      "  warn('Output cache limit (currently {sz} entries) hit.\\n'\n"
     ]
    },
    {
     "data": {
      "text/plain": [
       "array([45.44371795])"
      ]
     },
     "execution_count": 3860,
     "metadata": {},
     "output_type": "execute_result"
    }
   ],
   "source": [
    "reg_p.intercept_"
   ]
  },
  {
   "cell_type": "code",
   "execution_count": 3861,
   "id": "383efff2",
   "metadata": {},
   "outputs": [
    {
     "name": "stdout",
     "output_type": "stream",
     "text": [
      "[[0.00011171]]\n"
     ]
    }
   ],
   "source": [
    "print(reg_p.coef_)"
   ]
  },
  {
   "cell_type": "code",
   "execution_count": 3862,
   "id": "fc6185fc",
   "metadata": {},
   "outputs": [
    {
     "name": "stdout",
     "output_type": "stream",
     "text": [
      "[[154.9218665 ]\n",
      " [765.98867528]\n",
      " [ 93.36833604]\n",
      " ...\n",
      " [592.83446073]\n",
      " [116.36991848]\n",
      " [ 88.89984018]]\n"
     ]
    }
   ],
   "source": [
    "y_predict_p = reg_p.predict(x_pobiedziska)\n",
    "print(y_predict)"
   ]
  },
  {
   "cell_type": "code",
   "execution_count": 3863,
   "id": "de0f22f0",
   "metadata": {},
   "outputs": [
    {
     "name": "stderr",
     "output_type": "stream",
     "text": [
      "C:\\Users\\bekon\\anaconda3\\envs\\jnenv\\lib\\site-packages\\sklearn\\base.py:443: UserWarning: X has feature names, but LinearRegression was fitted without feature names\n",
      "  warnings.warn(\n"
     ]
    },
    {
     "data": {
      "image/png": "[encoded data removed]",
      "text/plain": [
       "<Figure size 864x360 with 1 Axes>"
      ]
     },
     "metadata": {
      "needs_background": "light"
     },
     "output_type": "display_data"
    }
   ],
   "source": [
    "%matplotlib inline\n",
    "plt.figure(figsize=(12, 5))\n",
    "plt.ylabel('area(sqr m)')\n",
    "plt.xlabel('price(PLN)')\n",
    "x = np.arange(0, 200000, 2)\n",
    "\n",
    "#plt.title(\"Linear regresison for Pobiedziska\")\n",
    "#plt.plot(x_pobiedziska, y_predict_p, color=\"red\", linewidth=1)\n",
    "#plt.scatter(f.price, f.area, color='blue', marker=\"o\", label=\"prices in Pobiedziska\")\n",
    "\n",
    "#%matplotlib inline\n",
    "#plt.xlabel('price(US$)')\n",
    "#plt.ylabel('area(sqr ft)')\n",
    "\n",
    "plt.scatter(f.price,f.area, color='red', marker=\"+\")\n",
    "plt.plot(f.price, reg_p.predict(f[['price']]), color='blue')\n",
    "\n",
    "\n",
    "#plt.scatter(df4.price,df4.area, color='blue', marker=\"+\", label=\"prices in Pobiedziska\")\n",
    "#plt.scatter(df4.price,df4.area, color='red', marker=\"+\")\n",
    "plt.ticklabel_format(style='plain', useOffset=False, axis='x')"
   ]
  },
  {
   "cell_type": "code",
   "execution_count": null,
   "id": "64770ad6",
   "metadata": {},
   "outputs": [],
   "source": [
    "%matplotlib inline\n",
    "plt.figure(figsize=(12, 5))\n",
    "plt.xlabel('price(US$)')\n",
    "plt.ylabel('area(sqr ft)')\n",
    "x = np.arange(0, 200000, 2)\n",
    "\n",
    "plt.scatter(f.price, f.area,)\n",
    "plt.plot(x_pobiedziska, y_predict_p, color=\"red\", linewidth=1)\n",
    "#yr = 0.00011171*x_pobiedziska +  45.44371795\n",
    "#plt.plot(df5.price, reg1.predict(df4[['price']]), color='blue')\n",
    "#fig = plt.plot(x_pobiedziska, yr, color=\"red\")\n",
    "\n",
    "#lt.scatter(df4.price,df4.area, color='red', marker=\"+\")\n",
    "#plt.plot(df4.price, reg1.predict(df4[['price']]), color='blue')\n",
    "\n",
    "\n",
    "plt.ticklabel_format(style='plain', useOffset=False, axis='y') \n",
    "plt.ticklabel_format(style='plain', useOffset=False, axis='x')\n",
    "#plt.legend()"
   ]
  },
  {
   "cell_type": "code",
   "execution_count": null,
   "id": "7291bde3",
   "metadata": {},
   "outputs": [],
   "source": [
    "%matplotlib inline\n",
    "plt.xlabel('area(sqr ft)')\n",
    "plt.ylabel('price(US$)')\n",
    "plt.scatter(x, y)\n",
    "\n",
    "yr = 0.00013822*x +  24.45619312\n",
    "\n",
    "fig = plt.plot(x, yr, color=\"red\")"
   ]
  },
  {
   "cell_type": "code",
   "execution_count": null,
   "id": "5ed617d6",
   "metadata": {},
   "outputs": [],
   "source": [
    "sns.displot(df5, x='price', kind='hist', kde=True, aspect=2)\n",
    "plt.ticklabel_format(style='plain', useOffset=False, axis='x')\n",
    "plt.title(\"Price normal distribution in Pobiedziska\")"
   ]
  },
  {
   "cell_type": "code",
   "execution_count": null,
   "id": "dc3824ed",
   "metadata": {},
   "outputs": [],
   "source": []
  },
  {
   "cell_type": "code",
   "execution_count": null,
   "id": "358a1b55",
   "metadata": {},
   "outputs": [],
   "source": [
    "sns.displot(df5, x='area', kind='hist', kde=True, aspect=2)\n",
    "plt.ticklabel_format(style='plain', useOffset=False, axis='x')\n",
    "plt.title(\"Area normal distribution in Pobiedziska\")"
   ]
  },
  {
   "cell_type": "code",
   "execution_count": null,
   "id": "ff1c9678",
   "metadata": {},
   "outputs": [],
   "source": [
    "df5['price per m'].max()"
   ]
  },
  {
   "cell_type": "code",
   "execution_count": null,
   "id": "a2b2f8aa",
   "metadata": {},
   "outputs": [],
   "source": [
    "#price per m\n",
    "sns.displot(df5, x='price per m', kind='hist', kde=True, aspect=2)\n",
    "plt.ticklabel_format(style='plain', useOffset=False, axis='x')\n",
    "plt.title(\"Price per meter sqr normal distribution in Pobiedziska\")\n",
    "\n",
    "\n"
   ]
  },
  {
   "cell_type": "code",
   "execution_count": null,
   "id": "f6b1169a",
   "metadata": {},
   "outputs": [],
   "source": [
    "df4"
   ]
  },
  {
   "cell_type": "code",
   "execution_count": null,
   "id": "81c97030",
   "metadata": {},
   "outputs": [],
   "source": [
    "sns.displot(df5, x='price per m', kind='hist', kde=True, aspect=2)\n",
    "plt.ticklabel_format(style='plain', useOffset=False, axis='x')\n",
    "plt.title(\"Price per meter sqr normal distribution for Pobiedziska\")\n",
    "\n",
    "plt.legend()"
   ]
  },
  {
   "cell_type": "code",
   "execution_count": null,
   "id": "4b08962f",
   "metadata": {},
   "outputs": [],
   "source": [
    "%matplotlib inline\n",
    "plt.figure(figsize=(10, 5))\n",
    "plt.ylabel('area(sqr m)')\n",
    "plt.xlabel('price(PLN)')\n",
    "plt.title(\"Price per m  sqr Pobiedziska\")\n",
    "plt.scatter(df4['price per m'],df4.area, color='red', marker=\"+\")\n",
    "#plt.plot(df.price, reg.predict(df[['price']]), color='blue')\n",
    "\n",
    "plt.ticklabel_format(style='plain', useOffset=False, axis='x')"
   ]
  },
  {
   "cell_type": "code",
   "execution_count": null,
   "id": "26af2c8f",
   "metadata": {},
   "outputs": [],
   "source": [
    "from numpy.polynomial import Polynomial\n",
    "\n",
    "mymodel = Polynomial.fit(df4['price per m'], df4['area'], 1)\n",
    "\n",
    "myline = np.linspace(500, 9000, 100)\n",
    "\n",
    "plt.scatter(df4['price per m'], df4['area'])\n",
    "plt.plot(myline, mymodel(myline))\n",
    "plt.title(\"Pobiedziska price per m sqr regression\")\n",
    "plt.show()"
   ]
  },
  {
   "cell_type": "code",
   "execution_count": null,
   "id": "f56733b6",
   "metadata": {},
   "outputs": [],
   "source": [
    "df_pob_q = df4[df4[\"area\"] >= 150 ]\n",
    "df_pob_q"
   ]
  },
  {
   "cell_type": "code",
   "execution_count": null,
   "id": "ad60392f",
   "metadata": {},
   "outputs": [],
   "source": [
    "from numpy.polynomial import Polynomial\n",
    "\n",
    "mymodel = Polynomial.fit(df_pob_q['price per m'], df_pob_q['area'], 2)\n",
    "\n",
    "myline = np.linspace(500, 9000, 100)\n",
    "\n",
    "plt.scatter(df_pob_q['price per m'], df_pob_q['area'])\n",
    "plt.plot(myline, mymodel(myline))\n",
    "plt.title(\"Pobiedziska price per m sqr regression\")\n",
    "plt.show()"
   ]
  },
  {
   "cell_type": "code",
   "execution_count": null,
   "id": "966930af",
   "metadata": {},
   "outputs": [],
   "source": [
    "area_mean = np.mean(df4['price per m'])\n",
    "print(f'Pobiedziska price per m sqr mean is: {\"%.0f\" % area_mean}')\n",
    "\n",
    "area_std = np.std(df4['price per m'])\n",
    "print(f'Pobiedziska price per m sqr devietion is: {\"%.0f\" %  area_std}')\n",
    "\n",
    "area_median = np.median(df4['price per m'])\n",
    "print(f'Pobiedziska price per m sqr median is: {\"%.0f\"% area_median}')\n",
    "\n",
    "area_mode = stats.mode(df4['price per m'])\n",
    "print(f'Pobiedziska price per m sqr mode is: { area_mode}')"
   ]
  },
  {
   "cell_type": "code",
   "execution_count": null,
   "id": "2de7afee",
   "metadata": {},
   "outputs": [],
   "source": [
    "df3['price per m'].max()"
   ]
  },
  {
   "cell_type": "code",
   "execution_count": null,
   "id": "04a42f25",
   "metadata": {},
   "outputs": [],
   "source": [
    "df6 = df3.loc[df[\"price per m\"] <= 12000 ]"
   ]
  },
  {
   "cell_type": "code",
   "execution_count": null,
   "id": "73b43259",
   "metadata": {},
   "outputs": [],
   "source": [
    "sns.displot(df6, x='price per m', kind='hist', kde=True, aspect=2)\n",
    "plt.ticklabel_format(style='plain', useOffset=False, axis='x')\n",
    "plt.title(\"Price per meter sqr normal distribution Poznan and 50km around it\")\n",
    "\n",
    "plt.legend()"
   ]
  },
  {
   "cell_type": "code",
   "execution_count": null,
   "id": "f9c241aa",
   "metadata": {},
   "outputs": [],
   "source": [
    "%matplotlib inline\n",
    "plt.figure(figsize=(10, 5))\n",
    "plt.ylabel('area(sqr m)')\n",
    "plt.xlabel('price(PLN)')\n",
    "plt.title(\"Price per m sqr pozan and area 50km\")\n",
    "plt.scatter(df6['price per m'],df6.area, color='red', marker=\"+\")\n",
    "#plt.plot(df.price, reg.predict(df[['price']]), color='blue')\n",
    "\n",
    "plt.ticklabel_format(style='plain', useOffset=False, axis='x')"
   ]
  },
  {
   "cell_type": "code",
   "execution_count": null,
   "id": "516481fa",
   "metadata": {},
   "outputs": [],
   "source": [
    "from numpy.polynomial import Polynomial\n",
    "\n",
    "plt.figure(figsize=(10, 5))\n",
    "\n",
    "mymodel = Polynomial.fit(df6['price per m'], df6['area'], 2)\n",
    "\n",
    "myline = np.linspace(1500, 12500, 100)\n",
    "\n",
    "plt.scatter(df6['price per m'], df6['area'], marker=\"+\")\n",
    "plt.plot(myline, mymodel(myline))\n",
    "plt.title(\"Poznan and 50km regression for price per m sqr\")\n",
    "plt.show()"
   ]
  },
  {
   "cell_type": "code",
   "execution_count": null,
   "id": "e7b354f4",
   "metadata": {},
   "outputs": [],
   "source": [
    "area_mean = np.mean(df6['price per m'])\n",
    "print(f'Poznan and 50km price per m sqr area mean is: {\"%.0f\" % area_mean}')\n",
    "\n",
    "area_std = np.std(df6['price per m'])\n",
    "print(f'Poznan and 50km  price per m sqr standard devietion is: {\"%.0f\" %  area_std}')\n",
    "\n",
    "area_median = np.median(df6['price per m'])\n",
    "print(f'Poznan and 50km  price per m sqr area median is: {\"%.0f\"% area_median}')\n",
    "\n",
    "area_mode = stats.mode(df6['price per m'])\n",
    "print(f'Poznan and 50km  price per m sqr mode is: { area_mode}')"
   ]
  },
  {
   "cell_type": "code",
   "execution_count": null,
   "id": "077a65ef",
   "metadata": {},
   "outputs": [],
   "source": [
    "df7 = df3.loc[df3['location'].str.contains(\"jeżyce\", case=False)]\n",
    "df7"
   ]
  },
  {
   "cell_type": "code",
   "execution_count": null,
   "id": "dd4469ab",
   "metadata": {},
   "outputs": [],
   "source": [
    "%matplotlib inline\n",
    "plt.figure(figsize=(10, 5))\n",
    "plt.ylabel('area(sqr m)')\n",
    "plt.xlabel('price(PLN)')\n",
    "plt.title(\"Poznan jezyce price per m sqr scatter plot\")\n",
    "plt.scatter(df7['price per m'],df7.area, color='red', marker=\"+\")\n",
    "#plt.plot(df.price, reg.predict(df[['price']]), color='blue')\n",
    "\n",
    "plt.ticklabel_format(style='plain', useOffset=False, axis='x')"
   ]
  },
  {
   "cell_type": "code",
   "execution_count": null,
   "id": "1490d212",
   "metadata": {},
   "outputs": [],
   "source": [
    "df8 = df7.loc[df7[\"price per m\"] <= 14000 ]\n",
    "df8"
   ]
  },
  {
   "cell_type": "code",
   "execution_count": null,
   "id": "2c7b45b3",
   "metadata": {},
   "outputs": [],
   "source": [
    "from numpy.polynomial import Polynomial\n",
    "plt.figure(figsize=(10, 5))\n",
    "mymodel = Polynomial.fit(df8['price per m'], df8['area'], 2)\n",
    "\n",
    "myline = np.linspace(3000, 14000, 100)\n",
    "plt.title(\"Poznan jezyce regression for price per m sqr\")\n",
    "\n",
    "plt.scatter(df8['price per m'], df8['area'], marker=\"+\")\n",
    "plt.plot(myline, mymodel(myline))\n",
    "plt.show() "
   ]
  },
  {
   "cell_type": "code",
   "execution_count": null,
   "id": "aee0ab2c",
   "metadata": {},
   "outputs": [],
   "source": [
    "sns.displot(df8, x='price per m', kind='hist', kde=True, aspect=2)\n",
    "plt.ticklabel_format(style='plain', useOffset=False, axis='x')\n",
    "plt.title(\"Price per meter sqr normal distribution Poznan Jeżyce\")\n",
    "\n",
    "plt.legend()"
   ]
  },
  {
   "cell_type": "code",
   "execution_count": null,
   "id": "95873eb3",
   "metadata": {},
   "outputs": [],
   "source": [
    "area_mean = np.mean(df8['price per m'])\n",
    "print(f' Jezyce area mean is: {\"%.0f\" % area_mean}')\n",
    "\n",
    "area_std = np.std(df8['price per m'])\n",
    "print(f' Jezyce standard devietion is: {\"%.0f\" %  area_std}')\n",
    "\n",
    "area_median = np.median(df8['price per m'])\n",
    "print(f' Jezyce area median is: {\"%.0f\"% area_median}')\n",
    "\n",
    "area_mode = stats.mode(df8['price per m'])\n",
    "print(f' Jezyce mode is: { area_mode}')"
   ]
  },
  {
   "cell_type": "code",
   "execution_count": null,
   "id": "b83b7b0d",
   "metadata": {},
   "outputs": [],
   "source": [
    "df_loboń = df3.loc[df3['location'].str.contains(\"luboń\", case=False)]\n",
    "df_loboń"
   ]
  },
  {
   "cell_type": "code",
   "execution_count": null,
   "id": "4752d5a0",
   "metadata": {},
   "outputs": [],
   "source": [
    "%matplotlib inline\n",
    "plt.figure(figsize=(10, 5))\n",
    "plt.ylabel('area(sqr m)')\n",
    "plt.xlabel('price(PLN)')\n",
    "plt.title(\"Luboń price per m sqr scatter plot\")\n",
    "plt.scatter(df_loboń['price per m'],df_loboń.area, color='red', marker=\"+\")\n",
    "#plt.plot(df.price, reg.predict(df[['price']]), color='blue')\n",
    "\n",
    "plt.ticklabel_format(style='plain', useOffset=False, axis='x')"
   ]
  },
  {
   "cell_type": "code",
   "execution_count": null,
   "id": "a73146f8",
   "metadata": {},
   "outputs": [],
   "source": [
    "sns.displot(df_loboń, x='price per m', kind='hist', kde=True, aspect=2)\n",
    "plt.ticklabel_format(style='plain', useOffset=False, axis='x')\n",
    "plt.title(\"Price per meter sqr normal distribution Luboń\")\n",
    "\n",
    "plt.legend()"
   ]
  },
  {
   "cell_type": "code",
   "execution_count": null,
   "id": "5159a07d",
   "metadata": {},
   "outputs": [],
   "source": [
    "area_mean = np.mean(df_loboń['price per m'])\n",
    "print(f' Jezyce area mean is: {\"%.0f\" % area_mean}')\n",
    "\n",
    "area_std = np.std(df_loboń['price per m'])\n",
    "print(f' Jezyce standard devietion is: {\"%.0f\" %  area_std}')\n",
    "\n",
    "area_median = np.median(df_loboń['price per m'])\n",
    "print(f' Jezyce area median is: {\"%.0f\"% area_median}')\n",
    "\n",
    "area_mode = stats.mode(df_loboń['price per m'])\n",
    "print(f' Jezyce mode is: { area_mode}')"
   ]
  },
  {
   "cell_type": "code",
   "execution_count": null,
   "id": "32d8c8fc",
   "metadata": {},
   "outputs": [],
   "source": [
    "from numpy.polynomial import Polynomial\n",
    "plt.figure(figsize=(10, 5))\n",
    "mymodel = Polynomial.fit(df_loboń['price per m'], df_loboń['area'], 2)\n",
    "\n",
    "myline = np.linspace(2000, 10000, 100)\n",
    "plt.title(\"Poznan jezyce regression for price per m sqr\")\n",
    "\n",
    "plt.scatter(df_loboń['price per m'],df_loboń['area'], marker=\"+\")\n",
    "plt.plot(myline, mymodel(myline))\n",
    "plt.show()"
   ]
  },
  {
   "cell_type": "code",
   "execution_count": null,
   "id": "5f9f079d",
   "metadata": {},
   "outputs": [],
   "source": [
    "df_loboń_q = df_loboń.loc[df_loboń[\"area\"] >= 150 ]\n",
    "df_loboń_q\n"
   ]
  },
  {
   "cell_type": "code",
   "execution_count": null,
   "id": "098c8343",
   "metadata": {},
   "outputs": [],
   "source": [
    "from numpy.polynomial import Polynomial\n",
    "plt.figure(figsize=(10, 5))\n",
    "mymodel = Polynomial.fit(df_loboń_q['price per m'], df_loboń_q['area'], 1)\n",
    "\n",
    "myline = np.linspace(2000, 10000, 100)\n",
    "plt.title(\"Poznan jezyce regression for price per m sqr\")\n",
    "\n",
    "plt.scatter(df_loboń_q['price per m'],df_loboń_q['area'], marker=\"+\")\n",
    "plt.plot(myline, mymodel(myline))\n",
    "plt.show()"
   ]
  },
  {
   "cell_type": "code",
   "execution_count": null,
   "id": "95070234",
   "metadata": {},
   "outputs": [],
   "source": [
    "reg = linear_model.LinearRegression().fit(df_loboń_q['price per m'], df_loboń_q['area'])"
   ]
  },
  {
   "cell_type": "code",
   "execution_count": null,
   "id": "bb2000dc",
   "metadata": {},
   "outputs": [],
   "source": [
    "df_dachowa = df3.loc[df3['location'].str.contains(\"dachowa\", case=False)]\n",
    "df_dachowa"
   ]
  },
  {
   "cell_type": "code",
   "execution_count": null,
   "id": "f99fbef9",
   "metadata": {},
   "outputs": [],
   "source": [
    "from numpy.polynomial import Polynomial\n",
    "plt.figure(figsize=(10, 5))\n",
    "mymodel = Polynomial.fit(df_dachowa['price per m'], df_dachowa['area'], 2)\n",
    "\n",
    "myline = np.linspace(2000, 10000, 100)\n",
    "plt.title(\"Poznan jezyce regression for price per m sqr\")\n",
    "\n",
    "plt.scatter(df_dachowa['price per m'],df_dachowa['area'], marker=\"+\")\n",
    "plt.plot(myline, mymodel(myline))\n",
    "plt.show()"
   ]
  },
  {
   "cell_type": "code",
   "execution_count": null,
   "id": "63f14d5e",
   "metadata": {},
   "outputs": [],
   "source": [
    "area_mean = np.mean(df_dachowa['price per m'])\n",
    "print(f' Jezyce area mean is: {\"%.0f\" % area_mean}')\n",
    "\n",
    "area_std = np.std(df_dachowa['price per m'])\n",
    "print(f' Jezyce standard devietion is: {\"%.0f\" %  area_std}')\n",
    "\n",
    "area_median = np.median(df_dachowa['price per m'])\n",
    "print(f' Jezyce area median is: {\"%.0f\"% area_median}')\n",
    "\n",
    "area_mode = stats.mode(df_dachowa['price per m'])\n",
    "print(f' Jezyce mode is: { area_mode}')"
   ]
  },
  {
   "cell_type": "code",
   "execution_count": null,
   "id": "1c3326f5",
   "metadata": {},
   "outputs": [],
   "source": []
  }
 ],
 "metadata": {
  "kernelspec": {
   "display_name": "Python (jnenv)",
   "language": "python",
   "name": "jnenv"
  },
  "language_info": {
   "codemirror_mode": {
    "name": "ipython",
    "version": 3
   },
   "file_extension": ".py",
   "mimetype": "text/x-python",
   "name": "python",
   "nbconvert_exporter": "python",
   "pygments_lexer": "ipython3",
   "version": "3.8.10"
  }
 },
 "nbformat": 4,
 "nbformat_minor": 5
}
